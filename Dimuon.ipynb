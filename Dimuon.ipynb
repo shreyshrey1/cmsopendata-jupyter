{
 "cells": [
  {
   "cell_type": "markdown",
   "metadata": {},
   "source": [
    "We start with a csv (comma-separated-value) file that is output from the DoubleMu dataset from the CMS experiment. The data was collected in 2011.\n",
    "\n",
    "The selections used on the two muons:\n",
    "* |$\\eta$| < 2.4\n",
    "* opposite charge\n",
    "* 0.3 < $M_{\\mu\\mu}$ < 300 GeV \n",
    "* at least one of the muons is a global muon\n",
    "\n",
    "Let's calculate the invariant mass $M$ of the two muons where:\n",
    "\n",
    "$M = \\sqrt{2p_{t}^{1}p_{t}^{2}(\\cosh(\\eta_{1}-\\eta_{2}) - \\cos(\\phi_{1}-\\phi_{2}))}$"
   ]
  },
  {
   "cell_type": "code",
   "execution_count": 1,
   "metadata": {
    "collapsed": false
   },
   "outputs": [],
   "source": [
    "import pandas as pd\n",
    "import numpy as np\n",
    "\n",
    "df = pd.read_csv('./data/DoubleMuRun2011A.csv')"
   ]
  },
  {
   "cell_type": "code",
   "execution_count": 2,
   "metadata": {
    "collapsed": false
   },
   "outputs": [
    {
     "name": "stdout",
     "output_type": "stream",
     "text": [
      "475465\n"
     ]
    }
   ],
   "source": [
    "# Let's select events where both muons are global muons:\n",
    "gms = df[(df.Type1 == 'G') & (df.Type2 == 'G')]\n",
    "# Calculate the invariant mass:\n",
    "m = np.sqrt(2*gms['pt1']*gms['pt2']*(np.cosh(gms['eta1']-gms['eta2']) - np.cos(gms['phi1']-gms['phi2'])))\n",
    "\n",
    "nbins = 500\n",
    "weights = [nbins/np.log(10)/m for m in m]\n",
    "m = np.log10(m)\n",
    "\n",
    "M_hist = np.histogram(m, bins=nbins, weights=weights, range=(-0.5,2.5))\n",
    "print(len(df))"
   ]
  },
  {
   "cell_type": "code",
   "execution_count": 3,
   "metadata": {
    "collapsed": false
   },
   "outputs": [
    {
     "data": {
      "image/png": "[encoded data removed]",
      "text/plain": [
       "<matplotlib.figure.Figure at 0x11427d630>"
      ]
     },
     "metadata": {},
     "output_type": "display_data"
    }
   ],
   "source": [
    "%matplotlib inline\n",
    "import matplotlib.pyplot as plt\n",
    "\n",
    "hist, bins = M_hist\n",
    "width = 0.5*(bins[1] - bins[0])\n",
    "center = (bins[:-1] + bins[1:]) / 2\n",
    "plt.plot(center, hist)\n",
    "plt.yscale('log')\n",
    "plt.xlabel('log10(invariant mass) [log10(GeV)]')\n",
    "plt.ylabel('events/GeV')\n",
    "plt.show()"
   ]
  },
  {
   "cell_type": "markdown",
   "metadata": {
    "collapsed": true
   },
   "source": [
    "Hmm, the background shape looks strange after the $\\Upsilon$..."
   ]
  },
  {
   "cell_type": "code",
   "execution_count": null,
   "metadata": {
    "collapsed": true
   },
   "outputs": [],
   "source": []
  }
 ],
 "metadata": {
  "kernelspec": {
   "display_name": "Python 3",
   "language": "python",
   "name": "python3"
  },
  "language_info": {
   "codemirror_mode": {
    "name": "ipython",
    "version": 3
   },
   "file_extension": ".py",
   "mimetype": "text/x-python",
   "name": "python",
   "nbconvert_exporter": "python",
   "pygments_lexer": "ipython3",
   "version": "3.5.1"
  }
 },
 "nbformat": 4,
 "nbformat_minor": 0
}
