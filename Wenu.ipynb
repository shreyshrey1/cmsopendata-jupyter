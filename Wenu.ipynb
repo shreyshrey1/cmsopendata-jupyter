{
 "cells": [
  {
   "cell_type": "markdown",
   "metadata": {},
   "source": [
    "Let's look at a sample of $W$ boson candidates, particularly those that decay to an electron $e$ and a neutrino $\\nu$. A selection has already been performed on the SingleElectron sample collected by the CMS Experiment in 2011. \n",
    "\n",
    "An event is kept if there is one (and only one) electron in the event that satisfies:\n",
    "* $p_{t}$ > 20.0 GeV\n",
    "* [More needed...]\n",
    "\n",
    "We output the following information to a csv (comma-separated-variable) file:\n",
    "\n",
    "Run,Event,pt,eta,phi,type,sigmaEtaEta,HoverE,Q,MET,phiMET\n",
    "\n",
    "Where\n",
    "* Run, Event are the run and event numbers, respectively\n",
    "* pt is the transverse momentum $p_{t}$ of the electron\n",
    "* eta ($\\eta$) is the pseudorapidity of the electron\n",
    "* phi is the $\\phi$ angle of the electron direction\n",
    "* type is either EB or EE: whether the electron is in the barrel or in the endcap\n",
    "* sigmaEtaEta is weighted cluster rms along $\\eta$\n",
    "* HoverE is the HCAL energy / ECAL energy\n",
    "\n",
    "Let's read in the csv file and calculate the transverse mass $M_{T}$, where \n",
    "\n",
    "$M_{T} = \\sqrt{2p_{t}MET(1 - \\cos{\\Delta\\phi})}$\n",
    "\n",
    "and make a histogram of the results."
   ]
  },
  {
   "cell_type": "code",
   "execution_count": 15,
   "metadata": {
    "collapsed": false
   },
   "outputs": [],
   "source": [
    "import csv\n",
    "import math\n",
    "import numpy\n",
    "\n",
    "transverse_mass = []\n",
    "met = []\n",
    "\n",
    "with open('./data/Wenu_Run2011A.csv') as csvfile:\n",
    "    \n",
    "    reader = csv.DictReader(csvfile)\n",
    "   \n",
    "    for row in reader:\n",
    "\n",
    "        type = row['type']\n",
    "        sigmaEtaEta = float(row['sigmaEtaEta'])\n",
    "        HoverE = float(row['HoverE'])\n",
    "    \n",
    "        if type == 'EB':\n",
    "            if sigmaEtaEta > 0.01:\n",
    "                continue\n",
    "            if HoverE > 0.15:\n",
    "                continue\n",
    "        if type == 'EE':\n",
    "            if sigmaEtaEta > 0.03:\n",
    "                continue\n",
    "            if HoverE > 0.07:\n",
    "                continue\n",
    "        \n",
    "        pt = float(row['pt'])\n",
    "        phi = float(row['phi'])\n",
    "        MET = float(row['MET'])\n",
    "        phiMET = float(row['phiMET'])\n",
    "        \n",
    "        MT = math.sqrt(2*pt*MET*(1-math.cos(phi-phiMET)))\n",
    "        transverse_mass.append(MT)\n",
    "        met.append(MET)\n",
    "        \n",
    "MT_hist = numpy.histogram(transverse_mass, bins=24, range=(0,120))\n",
    "MET_hist = numpy.histogram(met, bins=24, range=(0,120))"
   ]
  },
  {
   "cell_type": "code",
   "execution_count": 17,
   "metadata": {
    "collapsed": false
   },
   "outputs": [
    {
     "data": {
      "image/png": "[encoded data removed]",
      "text/plain": [
       "<matplotlib.figure.Figure at 0x10a8e7470>"
      ]
     },
     "metadata": {},
     "output_type": "display_data"
    }
   ],
   "source": [
    "%matplotlib inline\n",
    "import matplotlib.pyplot as plt\n",
    "\n",
    "hist, bins = MT_hist\n",
    "width = 1.0*(bins[1] - bins[0])\n",
    "center = (bins[:-1] + bins[1:]) / 2\n",
    "plt.bar(center, hist, align='center', width=width)\n",
    "plt.show()\n"
   ]
  },
  {
   "cell_type": "code",
   "execution_count": 16,
   "metadata": {
    "collapsed": false
   },
   "outputs": [
    {
     "data": {
      "text/plain": [
       "332940"
      ]
     },
     "execution_count": 16,
     "metadata": {},
     "output_type": "execute_result"
    }
   ],
   "source": [
    "len(transverse_mass)"
   ]
  },
  {
   "cell_type": "code",
   "execution_count": null,
   "metadata": {
    "collapsed": true
   },
   "outputs": [],
   "source": []
  }
 ],
 "metadata": {
  "kernelspec": {
   "display_name": "Python 3",
   "language": "python",
   "name": "python3"
  },
  "language_info": {
   "codemirror_mode": {
    "name": "ipython",
    "version": 3
   },
   "file_extension": ".py",
   "mimetype": "text/x-python",
   "name": "python",
   "nbconvert_exporter": "python",
   "pygments_lexer": "ipython3",
   "version": "3.5.1"
  }
 },
 "nbformat": 4,
 "nbformat_minor": 0
}
