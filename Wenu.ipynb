{
 "cells": [
  {
   "cell_type": "markdown",
   "metadata": {},
   "source": [
    "Let's look at a sample of $W$ boson candidates, particularly those that decay to an electron $e$ and a neutrino $\\nu$. A selection has already been performed on the SingleElectron sample collected by the CMS Experiment in 2011. \n",
    "\n",
    "(Most selections contained in this notebook come from those specified and described in \"Measurement of the Inclusive W and Z Production Cross Sections in pp Collisions at $\\sqrt{s}$ = 7 TeV\" by the CMS Collaboration [arXiv:1107.4789].)\n",
    "\n",
    "The selection code is here: https://github.com/tpmccauley/Wenu-filter\n",
    "\n",
    "An event is kept if there is one electron in the event with $p_{t}$ > 25.0 GeV. The event is rejected if there is a second electron present with $p_{t}$ > 20 GeV.\n",
    "\n",
    "We output the following information to a csv (comma-separated-variable) file:\n",
    "\n",
    "Run,Event,pt,eta,phi,Q,type,delEta,delPhi,sigmaEtaEta,HoverE,isoTrack,isoEcal,isoHcal,MET,phiMET\n",
    "\n",
    "Where\n",
    "* Run, Event are the run and event numbers, respectively\n",
    "* pt is the transverse momentum $p_{t}$ of the electron\n",
    "* eta is the pseudorapidity of the electron: $\\eta$\n",
    "* phi is the $\\phi$ angle of the electron direction\n",
    "* Q is the charge of the electron\n",
    "* type is either EB or EE: whether the electron is in the barrel or in the endcap\n",
    "* delEta is the difference in $\\eta$ between the track and the cluster: $\\Delta\\eta$\n",
    "* delPhi is the difference in $\\phi$ between the track and the cluster: $\\Delta\\phi$\n",
    "* sigmaEtaEta is the weighted cluster rms along $\\eta$: $\\sigma_{\\eta\\eta}$\n",
    "* HoverE is the HCAL energy / ECAL energy\n",
    "* isoTrack is the isolation variable for tracks\n",
    "* isoEcal is the isolation variable for the ECAL\n",
    "* isoHcal is the isolation variable for the HCAL\n",
    "* MET is the missing transverse energy\n",
    "* phiMET is the $\\phi$ angle of the MET"
   ]
  },
  {
   "cell_type": "markdown",
   "metadata": {},
   "source": [
    "Let's read in the csv file and calculate the transverse mass $M_{T}$, where \n",
    "\n",
    "$M_{T} = \\sqrt{2p_{t}MET(1 - \\cos{\\Delta\\phi})}$\n",
    "\n",
    "and make a histogram of the results.\n",
    "\n",
    "We will first load the csv file into a pandas data frame and add a column with $M_{T}$:"
   ]
  },
  {
   "cell_type": "code",
   "execution_count": 34,
   "metadata": {
    "collapsed": false
   },
   "outputs": [
    {
     "data": {
      "text/html": [
       "<div>\n",
       "<table border=\"1\" class=\"dataframe\">\n",
       "  <thead>\n",
       "    <tr style=\"text-align: right;\">\n",
       "      <th></th>\n",
       "      <th>Run</th>\n",
       "      <th>Event</th>\n",
       "      <th>pt</th>\n",
       "      <th>eta</th>\n",
       "      <th>phi</th>\n",
       "      <th>Q</th>\n",
       "      <th>type</th>\n",
       "      <th>delEta</th>\n",
       "      <th>delPhi</th>\n",
       "      <th>sigmaEtaEta</th>\n",
       "      <th>HoverE</th>\n",
       "      <th>isoTrack</th>\n",
       "      <th>isoEcal</th>\n",
       "      <th>isoHcal</th>\n",
       "      <th>MET</th>\n",
       "      <th>phiMET</th>\n",
       "      <th>Mt</th>\n",
       "    </tr>\n",
       "  </thead>\n",
       "  <tbody>\n",
       "    <tr>\n",
       "      <th>0</th>\n",
       "      <td>167676</td>\n",
       "      <td>328843401</td>\n",
       "      <td>38.6387</td>\n",
       "      <td>-0.849901</td>\n",
       "      <td>1.84857</td>\n",
       "      <td>-1</td>\n",
       "      <td>EB</td>\n",
       "      <td>0</td>\n",
       "      <td>0</td>\n",
       "      <td>0.009485</td>\n",
       "      <td>0.000000</td>\n",
       "      <td>0.000000</td>\n",
       "      <td>1.224090</td>\n",
       "      <td>0.000000</td>\n",
       "      <td>46.78840</td>\n",
       "      <td>-1.388570</td>\n",
       "      <td>84.940450</td>\n",
       "    </tr>\n",
       "    <tr>\n",
       "      <th>1</th>\n",
       "      <td>167676</td>\n",
       "      <td>328836311</td>\n",
       "      <td>59.1666</td>\n",
       "      <td>-2.109460</td>\n",
       "      <td>-2.51630</td>\n",
       "      <td>1</td>\n",
       "      <td>EE</td>\n",
       "      <td>0</td>\n",
       "      <td>0</td>\n",
       "      <td>0.021378</td>\n",
       "      <td>0.017705</td>\n",
       "      <td>20.477100</td>\n",
       "      <td>2.544120</td>\n",
       "      <td>6.744960</td>\n",
       "      <td>15.01790</td>\n",
       "      <td>1.150270</td>\n",
       "      <td>57.575320</td>\n",
       "    </tr>\n",
       "    <tr>\n",
       "      <th>2</th>\n",
       "      <td>167676</td>\n",
       "      <td>328915343</td>\n",
       "      <td>31.7262</td>\n",
       "      <td>2.450360</td>\n",
       "      <td>2.89560</td>\n",
       "      <td>1</td>\n",
       "      <td>EE</td>\n",
       "      <td>0</td>\n",
       "      <td>0</td>\n",
       "      <td>0.028839</td>\n",
       "      <td>0.000000</td>\n",
       "      <td>0.777484</td>\n",
       "      <td>1.822170</td>\n",
       "      <td>0.366293</td>\n",
       "      <td>20.65500</td>\n",
       "      <td>-0.270273</td>\n",
       "      <td>51.194065</td>\n",
       "    </tr>\n",
       "    <tr>\n",
       "      <th>3</th>\n",
       "      <td>167676</td>\n",
       "      <td>328884653</td>\n",
       "      <td>73.4109</td>\n",
       "      <td>-1.395090</td>\n",
       "      <td>2.00521</td>\n",
       "      <td>-1</td>\n",
       "      <td>EB</td>\n",
       "      <td>0</td>\n",
       "      <td>0</td>\n",
       "      <td>0.010006</td>\n",
       "      <td>0.000000</td>\n",
       "      <td>22.858400</td>\n",
       "      <td>8.015060</td>\n",
       "      <td>8.295060</td>\n",
       "      <td>3.28583</td>\n",
       "      <td>-0.773930</td>\n",
       "      <td>30.553549</td>\n",
       "    </tr>\n",
       "    <tr>\n",
       "      <th>4</th>\n",
       "      <td>167676</td>\n",
       "      <td>328970109</td>\n",
       "      <td>49.1363</td>\n",
       "      <td>-2.432580</td>\n",
       "      <td>3.02186</td>\n",
       "      <td>1</td>\n",
       "      <td>EE</td>\n",
       "      <td>0</td>\n",
       "      <td>0</td>\n",
       "      <td>0.027103</td>\n",
       "      <td>0.000000</td>\n",
       "      <td>0.000000</td>\n",
       "      <td>0.115398</td>\n",
       "      <td>0.000000</td>\n",
       "      <td>3.14248</td>\n",
       "      <td>2.508130</td>\n",
       "      <td>6.313731</td>\n",
       "    </tr>\n",
       "  </tbody>\n",
       "</table>\n",
       "</div>"
      ],
      "text/plain": [
       "      Run      Event       pt       eta      phi  Q type  delEta  delPhi  \\\n",
       "0  167676  328843401  38.6387 -0.849901  1.84857 -1   EB       0       0   \n",
       "1  167676  328836311  59.1666 -2.109460 -2.51630  1   EE       0       0   \n",
       "2  167676  328915343  31.7262  2.450360  2.89560  1   EE       0       0   \n",
       "3  167676  328884653  73.4109 -1.395090  2.00521 -1   EB       0       0   \n",
       "4  167676  328970109  49.1363 -2.432580  3.02186  1   EE       0       0   \n",
       "\n",
       "   sigmaEtaEta    HoverE   isoTrack   isoEcal   isoHcal       MET    phiMET  \\\n",
       "0     0.009485  0.000000   0.000000  1.224090  0.000000  46.78840 -1.388570   \n",
       "1     0.021378  0.017705  20.477100  2.544120  6.744960  15.01790  1.150270   \n",
       "2     0.028839  0.000000   0.777484  1.822170  0.366293  20.65500 -0.270273   \n",
       "3     0.010006  0.000000  22.858400  8.015060  8.295060   3.28583 -0.773930   \n",
       "4     0.027103  0.000000   0.000000  0.115398  0.000000   3.14248  2.508130   \n",
       "\n",
       "          Mt  \n",
       "0  84.940450  \n",
       "1  57.575320  \n",
       "2  51.194065  \n",
       "3  30.553549  \n",
       "4   6.313731  "
      ]
     },
     "execution_count": 34,
     "metadata": {},
     "output_type": "execute_result"
    }
   ],
   "source": [
    "import math\n",
    "import numpy as np\n",
    "import pandas as pd\n",
    "\n",
    "df = pd.read_csv('./data/Wenu_Run2011A.csv')\n",
    "df['Mt'] = np.sqrt(2*df['pt']*df['MET']*(1-np.cos(df['phi']-df['phiMET'])))\n",
    "\n",
    "df.head()"
   ]
  },
  {
   "cell_type": "markdown",
   "metadata": {},
   "source": [
    "Then make a histogram of the transverse mass:"
   ]
  },
  {
   "cell_type": "code",
   "execution_count": 35,
   "metadata": {
    "collapsed": false
   },
   "outputs": [
    {
     "data": {
      "image/png": "[encoded data removed]",
      "text/plain": [
       "<matplotlib.figure.Figure at 0x1136c3690>"
      ]
     },
     "metadata": {},
     "output_type": "display_data"
    }
   ],
   "source": [
    "%matplotlib inline\n",
    "import matplotlib.pyplot as plt\n",
    "\n",
    "MT_hist = np.histogram(df['Mt'], bins=24, range=(0,120))\n",
    "\n",
    "hist, bins = MT_hist\n",
    "width = 1.0*(bins[1] - bins[0])\n",
    "center = (bins[:-1] + bins[1:]) / 2\n",
    "plt.bar(center, hist, align='center', width=width, color='w', linewidth=1, edgecolor='b')\n",
    "plt.xlabel('Transverse mass [GeV]')\n",
    "plt.show()\n"
   ]
  },
  {
   "cell_type": "markdown",
   "metadata": {},
   "source": [
    "How do the various selections affect the distibution of the transverse mass?\n",
    "\n",
    "Let's take a look at the distribution of $\\sigma_{\\eta\\eta}$ for EB and EE:"
   ]
  },
  {
   "cell_type": "code",
   "execution_count": 36,
   "metadata": {
    "collapsed": false
   },
   "outputs": [
    {
     "data": {
      "image/png": "[encoded data removed]",
      "text/plain": [
       "<matplotlib.figure.Figure at 0x110a43490>"
      ]
     },
     "metadata": {},
     "output_type": "display_data"
    }
   ],
   "source": [
    "eb = df[df.type == 'EB']\n",
    "\n",
    "seeEB_hist = np.histogram(eb['sigmaEtaEta'], bins=50)\n",
    "\n",
    "hist, bins = seeEB_hist\n",
    "width = 1.0*(bins[1] - bins[0])\n",
    "center = (bins[:-1] + bins[1:]) / 2\n",
    "plt.bar(center, hist, align='center', width=width, color='w', linewidth=1, edgecolor='b')\n",
    "plt.xlabel('sigmaEtaEta in EB')\n",
    "plt.show()"
   ]
  },
  {
   "cell_type": "code",
   "execution_count": 37,
   "metadata": {
    "collapsed": false
   },
   "outputs": [
    {
     "data": {
      "image/png": "[encoded data removed]",
      "text/plain": [
       "<matplotlib.figure.Figure at 0x10f154690>"
      ]
     },
     "metadata": {},
     "output_type": "display_data"
    }
   ],
   "source": [
    "ee = df[df.type == 'EE']\n",
    "\n",
    "seeEE_hist = np.histogram(ee['sigmaEtaEta'], bins=50)\n",
    "\n",
    "hist, bins = seeEE_hist\n",
    "width = 1.0*(bins[1] - bins[0])\n",
    "center = (bins[:-1] + bins[1:]) / 2\n",
    "plt.bar(center, hist, align='center', width=width, color='w', linewidth=1, edgecolor='b')\n",
    "plt.xlabel('sigmaEtaEta in EE')\n",
    "plt.show()"
   ]
  },
  {
   "cell_type": "markdown",
   "metadata": {
    "collapsed": false
   },
   "source": [
    "If we apply a so-called \"tight\" selection using the selection variables this means that the following conditions must be satisfied (NOTE: check these):\n",
    "\n",
    "for EB\n",
    "* $\\Delta\\eta$ < 0.005\n",
    "* $\\Delta\\phi$ < 0.06\n",
    "* $\\sigma_{\\eta\\eta}$ < 0.01\n",
    "* H/E < 0.05\n",
    "\n",
    "for EE\n",
    "* $\\Delta\\eta$ < 0.007\n",
    "* $\\Delta\\phi$ < 0.03\n",
    "* $\\sigma_{\\eta\\eta}$ < 0.03\n",
    "* H/E < 0.03\n",
    "\n",
    "Furthermore, the isolation variable requirements are:\n",
    "\n",
    "for EB\n",
    "* isoTrack / $E_{T}$ < 0.1\n",
    "* isoEcal / $E_{T}$ < 0.1\n",
    "* isoHcal / $E_{T}$ < 0.1\n",
    "\n",
    "for EE\n",
    "* isoTrack / $E_{T}$ < 0.04\n",
    "* isoEcal / $E_{T}$ < 0.06\n",
    "* isoHcal / $E_{T}$ < 0.03\n"
   ]
  },
  {
   "cell_type": "markdown",
   "metadata": {},
   "source": [
    "Let's apply a selection using $\\sigma_{\\eta\\eta}$ and see what the transverse mass looks like:"
   ]
  },
  {
   "cell_type": "code",
   "execution_count": 38,
   "metadata": {
    "collapsed": false
   },
   "outputs": [
    {
     "data": {
      "image/png": "[encoded data removed]",
      "text/plain": [
       "<matplotlib.figure.Figure at 0x1117d4a10>"
      ]
     },
     "metadata": {},
     "output_type": "display_data"
    }
   ],
   "source": [
    "select = eb[eb.sigmaEtaEta < 0.01]\n",
    "\n",
    "MT_hist = np.histogram(select['Mt'], bins=24, range=(0,120))\n",
    "\n",
    "hist, bins = MT_hist\n",
    "width = 1.0*(bins[1] - bins[0])\n",
    "center = (bins[:-1] + bins[1:]) / 2\n",
    "plt.bar(center, hist, align='center', width=width, color='w', linewidth=1, edgecolor='b')\n",
    "plt.xlabel('Transverse mass [GeV]')\n",
    "plt.show()\n"
   ]
  },
  {
   "cell_type": "code",
   "execution_count": 39,
   "metadata": {
    "collapsed": false
   },
   "outputs": [
    {
     "data": {
      "image/png": "[encoded data removed]",
      "text/plain": [
       "<matplotlib.figure.Figure at 0x10fc86d10>"
      ]
     },
     "metadata": {},
     "output_type": "display_data"
    }
   ],
   "source": [
    "select = eb[(eb.sigmaEtaEta < 0.01) & (eb.HoverE < 0.05)]\n",
    "\n",
    "MT_hist = np.histogram(select['Mt'], bins=24, range=(0,120))\n",
    "\n",
    "hist, bins = MT_hist\n",
    "width = 1.0*(bins[1] - bins[0])\n",
    "center = (bins[:-1] + bins[1:]) / 2\n",
    "plt.bar(center, hist, align='center', width=width, color='w', linewidth=1, edgecolor='b')\n",
    "plt.xlabel('Transverse mass [GeV]')\n",
    "plt.show()"
   ]
  },
  {
   "cell_type": "code",
   "execution_count": 40,
   "metadata": {
    "collapsed": false
   },
   "outputs": [
    {
     "data": {
      "image/png": "[encoded data removed]",
      "text/plain": [
       "<matplotlib.figure.Figure at 0x10fd65c90>"
      ]
     },
     "metadata": {},
     "output_type": "display_data"
    }
   ],
   "source": [
    "select = eb[(eb.sigmaEtaEta < 0.01) & (eb.HoverE < 0.05) & \n",
    "            (eb.isoTrack/eb.pt < 0.1) & (eb.isoEcal/eb.pt < 0.1) & (eb.isoHcal/eb.pt < 0.1)]\n",
    "\n",
    "MT_hist = np.histogram(select['Mt'], bins=24, range=(0,120))\n",
    "\n",
    "hist, bins = MT_hist\n",
    "width = 1.0*(bins[1] - bins[0])\n",
    "center = (bins[:-1] + bins[1:]) / 2\n",
    "plt.bar(center, hist, align='center', width=width, color='w', linewidth=1, edgecolor='b')\n",
    "plt.xlabel('Transverse mass [GeV]')\n",
    "plt.show()"
   ]
  },
  {
   "cell_type": "code",
   "execution_count": 41,
   "metadata": {
    "collapsed": false
   },
   "outputs": [
    {
     "data": {
      "image/png": "[encoded data removed]",
      "text/plain": [
       "<matplotlib.figure.Figure at 0x1100a3d50>"
      ]
     },
     "metadata": {},
     "output_type": "display_data"
    }
   ],
   "source": [
    "MET_hist = np.histogram(df['MET'], bins=24, range=(0,120))\n",
    "\n",
    "hist, bins = MET_hist\n",
    "width = 1.0*(bins[1] - bins[0])\n",
    "center = (bins[:-1] + bins[1:]) / 2\n",
    "plt.bar(center, hist, align='center', width=width, color='w', linewidth=1, edgecolor='b')\n",
    "plt.xlabel('MET [GeV]')\n",
    "plt.show()\n"
   ]
  },
  {
   "cell_type": "code",
   "execution_count": 42,
   "metadata": {
    "collapsed": false
   },
   "outputs": [
    {
     "data": {
      "image/png": "[encoded data removed]",
      "text/plain": [
       "<matplotlib.figure.Figure at 0x1117c6890>"
      ]
     },
     "metadata": {},
     "output_type": "display_data"
    }
   ],
   "source": [
    "MET_hist = np.histogram(select['MET'], bins=24, range=(0,120))\n",
    "\n",
    "hist, bins = MET_hist\n",
    "width = 1.0*(bins[1] - bins[0])\n",
    "center = (bins[:-1] + bins[1:]) / 2\n",
    "plt.bar(center, hist, align='center', width=width, color='w', linewidth=1, edgecolor='b')\n",
    "plt.xlabel('MET [GeV]')\n",
    "plt.show()"
   ]
  },
  {
   "cell_type": "markdown",
   "metadata": {},
   "source": [
    "How many events do we have?"
   ]
  },
  {
   "cell_type": "code",
   "execution_count": 43,
   "metadata": {
    "collapsed": false
   },
   "outputs": [
    {
     "data": {
      "text/plain": [
       "89069"
      ]
     },
     "execution_count": 43,
     "metadata": {},
     "output_type": "execute_result"
    }
   ],
   "source": [
    "len(select)"
   ]
  }
 ],
 "metadata": {
  "kernelspec": {
   "display_name": "Python 2",
   "language": "python",
   "name": "python2"
  },
  "language_info": {
   "codemirror_mode": {
    "name": "ipython",
    "version": 2
   },
   "file_extension": ".py",
   "mimetype": "text/x-python",
   "name": "python",
   "nbconvert_exporter": "python",
   "pygments_lexer": "ipython2",
   "version": "2.7.5"
  }
 },
 "nbformat": 4,
 "nbformat_minor": 0
}
