{
 "cells": [
  {
   "cell_type": "markdown",
   "metadata": {},
   "source": [
    "We start with a csv (comma-separated-value) file that is output from the DoubleMu dataset from the CMS experiment. The data was collected in 2011.\n",
    "\n",
    "The selections used on the two muons:\n",
    "* |$\\eta$| < 2.4\n",
    "* 8 < $M_{\\mu\\mu}$ < 12 GeV \n",
    "* at least one of the muons is a global muon\n",
    "\n",
    "Let's calculate the invariant mass $M$ of the two muons where:\n",
    "\n",
    "$M = \\sqrt{2p_{t}^{1}p_{t}^{2}(\\cosh(\\eta_{1}-\\eta_{2}) - \\cos(\\phi_{1}-\\phi_{2}))}$\n",
    "\n",
    "First let's get the data from the csv file into a data frame:"
   ]
  },
  {
   "cell_type": "code",
   "execution_count": 1,
   "metadata": {
    "collapsed": false
   },
   "outputs": [],
   "source": [
    "import pandas as pd\n",
    "import numpy as np\n",
    "\n",
    "df = pd.read_csv('./data/Ymumu_Run2011A.csv')"
   ]
  },
  {
   "cell_type": "markdown",
   "metadata": {},
   "source": [
    "What's in the file and how many events do we have?"
   ]
  },
  {
   "cell_type": "code",
   "execution_count": 2,
   "metadata": {
    "collapsed": false,
    "scrolled": true
   },
   "outputs": [
    {
     "data": {
      "text/html": [
       "<div>\n",
       "<table border=\"1\" class=\"dataframe\">\n",
       "  <thead>\n",
       "    <tr style=\"text-align: right;\">\n",
       "      <th></th>\n",
       "      <th>Run</th>\n",
       "      <th>Event</th>\n",
       "      <th>Type1</th>\n",
       "      <th>E1</th>\n",
       "      <th>px1</th>\n",
       "      <th>py1</th>\n",
       "      <th>pz1</th>\n",
       "      <th>pt1</th>\n",
       "      <th>eta1</th>\n",
       "      <th>phi1</th>\n",
       "      <th>...</th>\n",
       "      <th>Type2</th>\n",
       "      <th>E2</th>\n",
       "      <th>px2</th>\n",
       "      <th>py2</th>\n",
       "      <th>pz2</th>\n",
       "      <th>pt2</th>\n",
       "      <th>eta2</th>\n",
       "      <th>phi2</th>\n",
       "      <th>Q2</th>\n",
       "      <th>M</th>\n",
       "    </tr>\n",
       "  </thead>\n",
       "  <tbody>\n",
       "    <tr>\n",
       "      <th>0</th>\n",
       "      <td>165617</td>\n",
       "      <td>75100943</td>\n",
       "      <td>G</td>\n",
       "      <td>6.20385</td>\n",
       "      <td>-4.26661</td>\n",
       "      <td>0.456545</td>\n",
       "      <td>-4.47930</td>\n",
       "      <td>4.29097</td>\n",
       "      <td>-0.91207</td>\n",
       "      <td>3.034990</td>\n",
       "      <td>...</td>\n",
       "      <td>G</td>\n",
       "      <td>9.66898</td>\n",
       "      <td>7.27397</td>\n",
       "      <td>-2.821120</td>\n",
       "      <td>-5.710400</td>\n",
       "      <td>7.80188</td>\n",
       "      <td>-0.678625</td>\n",
       "      <td>-0.369977</td>\n",
       "      <td>1</td>\n",
       "      <td>11.55340</td>\n",
       "    </tr>\n",
       "    <tr>\n",
       "      <th>1</th>\n",
       "      <td>165617</td>\n",
       "      <td>75492770</td>\n",
       "      <td>G</td>\n",
       "      <td>16.20100</td>\n",
       "      <td>5.64702</td>\n",
       "      <td>4.154080</td>\n",
       "      <td>14.60530</td>\n",
       "      <td>7.01036</td>\n",
       "      <td>1.48032</td>\n",
       "      <td>0.634236</td>\n",
       "      <td>...</td>\n",
       "      <td>T</td>\n",
       "      <td>4.12495</td>\n",
       "      <td>3.35862</td>\n",
       "      <td>-2.238350</td>\n",
       "      <td>0.844684</td>\n",
       "      <td>4.03616</td>\n",
       "      <td>0.207781</td>\n",
       "      <td>-0.587852</td>\n",
       "      <td>1</td>\n",
       "      <td>9.46937</td>\n",
       "    </tr>\n",
       "    <tr>\n",
       "      <th>2</th>\n",
       "      <td>165617</td>\n",
       "      <td>75587682</td>\n",
       "      <td>G</td>\n",
       "      <td>19.28920</td>\n",
       "      <td>-4.21208</td>\n",
       "      <td>-0.651623</td>\n",
       "      <td>18.81210</td>\n",
       "      <td>4.26219</td>\n",
       "      <td>2.19046</td>\n",
       "      <td>-2.988110</td>\n",
       "      <td>...</td>\n",
       "      <td>G</td>\n",
       "      <td>9.82439</td>\n",
       "      <td>4.34394</td>\n",
       "      <td>-0.473505</td>\n",
       "      <td>8.798490</td>\n",
       "      <td>4.36967</td>\n",
       "      <td>1.449670</td>\n",
       "      <td>-0.108575</td>\n",
       "      <td>1</td>\n",
       "      <td>9.16361</td>\n",
       "    </tr>\n",
       "    <tr>\n",
       "      <th>3</th>\n",
       "      <td>165617</td>\n",
       "      <td>75167029</td>\n",
       "      <td>G</td>\n",
       "      <td>9.75833</td>\n",
       "      <td>2.39032</td>\n",
       "      <td>-3.782350</td>\n",
       "      <td>8.67145</td>\n",
       "      <td>4.47435</td>\n",
       "      <td>1.41558</td>\n",
       "      <td>-1.007200</td>\n",
       "      <td>...</td>\n",
       "      <td>G</td>\n",
       "      <td>13.56840</td>\n",
       "      <td>-3.39746</td>\n",
       "      <td>5.190980</td>\n",
       "      <td>12.066500</td>\n",
       "      <td>6.20395</td>\n",
       "      <td>1.418750</td>\n",
       "      <td>2.150320</td>\n",
       "      <td>1</td>\n",
       "      <td>10.53910</td>\n",
       "    </tr>\n",
       "    <tr>\n",
       "      <th>4</th>\n",
       "      <td>165617</td>\n",
       "      <td>75281957</td>\n",
       "      <td>G</td>\n",
       "      <td>9.63652</td>\n",
       "      <td>1.65156</td>\n",
       "      <td>-5.431330</td>\n",
       "      <td>7.78616</td>\n",
       "      <td>5.67688</td>\n",
       "      <td>1.12134</td>\n",
       "      <td>-1.275600</td>\n",
       "      <td>...</td>\n",
       "      <td>G</td>\n",
       "      <td>7.02632</td>\n",
       "      <td>-1.64493</td>\n",
       "      <td>4.441830</td>\n",
       "      <td>5.188670</td>\n",
       "      <td>4.73663</td>\n",
       "      <td>0.947273</td>\n",
       "      <td>1.925460</td>\n",
       "      <td>-1</td>\n",
       "      <td>10.40790</td>\n",
       "    </tr>\n",
       "  </tbody>\n",
       "</table>\n",
       "<p>5 rows × 21 columns</p>\n",
       "</div>"
      ],
      "text/plain": [
       "      Run     Event Type1        E1      px1       py1       pz1      pt1  \\\n",
       "0  165617  75100943     G   6.20385 -4.26661  0.456545  -4.47930  4.29097   \n",
       "1  165617  75492770     G  16.20100  5.64702  4.154080  14.60530  7.01036   \n",
       "2  165617  75587682     G  19.28920 -4.21208 -0.651623  18.81210  4.26219   \n",
       "3  165617  75167029     G   9.75833  2.39032 -3.782350   8.67145  4.47435   \n",
       "4  165617  75281957     G   9.63652  1.65156 -5.431330   7.78616  5.67688   \n",
       "\n",
       "      eta1      phi1    ...     Type2        E2      px2       py2        pz2  \\\n",
       "0 -0.91207  3.034990    ...         G   9.66898  7.27397 -2.821120  -5.710400   \n",
       "1  1.48032  0.634236    ...         T   4.12495  3.35862 -2.238350   0.844684   \n",
       "2  2.19046 -2.988110    ...         G   9.82439  4.34394 -0.473505   8.798490   \n",
       "3  1.41558 -1.007200    ...         G  13.56840 -3.39746  5.190980  12.066500   \n",
       "4  1.12134 -1.275600    ...         G   7.02632 -1.64493  4.441830   5.188670   \n",
       "\n",
       "       pt2      eta2      phi2  Q2         M  \n",
       "0  7.80188 -0.678625 -0.369977   1  11.55340  \n",
       "1  4.03616  0.207781 -0.587852   1   9.46937  \n",
       "2  4.36967  1.449670 -0.108575   1   9.16361  \n",
       "3  6.20395  1.418750  2.150320   1  10.53910  \n",
       "4  4.73663  0.947273  1.925460  -1  10.40790  \n",
       "\n",
       "[5 rows x 21 columns]"
      ]
     },
     "execution_count": 2,
     "metadata": {},
     "output_type": "execute_result"
    }
   ],
   "source": [
    "df.head()"
   ]
  },
  {
   "cell_type": "code",
   "execution_count": 3,
   "metadata": {
    "collapsed": false
   },
   "outputs": [
    {
     "data": {
      "text/plain": [
       "37278"
      ]
     },
     "execution_count": 3,
     "metadata": {},
     "output_type": "execute_result"
    }
   ],
   "source": [
    "len(df)"
   ]
  },
  {
   "cell_type": "code",
   "execution_count": 4,
   "metadata": {
    "collapsed": false
   },
   "outputs": [],
   "source": [
    "# Calculate the invariant mass and add it as a column (there is actually one there already but\n",
    "# let's pretend there isn't for now)\n",
    "df['m'] = np.sqrt(2*df['pt1']*df['pt2']*(np.cosh(df['eta1']-df['eta2']) - np.cos(df['phi1']-df['phi2'])))\n",
    "\n",
    "nbins = 100\n",
    "xmin = 8\n",
    "xmax = 12\n",
    "\n",
    "M_hist = np.histogram(df['m'], bins=nbins, range=(xmin,xmax))"
   ]
  },
  {
   "cell_type": "code",
   "execution_count": 5,
   "metadata": {
    "collapsed": false
   },
   "outputs": [
    {
     "data": {
      "image/png": "[encoded data removed]",
      "text/plain": [
       "<matplotlib.figure.Figure at 0x115384ac8>"
      ]
     },
     "metadata": {},
     "output_type": "display_data"
    }
   ],
   "source": [
    "%matplotlib inline\n",
    "import matplotlib.pyplot as plt\n",
    "\n",
    "hist, bins = M_hist\n",
    "width = 1.0*(bins[1] - bins[0])\n",
    "center = (bins[:-1] + bins[1:]) / 2\n",
    "plt.bar(center, hist, align='center', width=width, color='b', linewidth=0, edgecolor='b')\n",
    "plt.xlabel('invariant mass [GeV]')\n",
    "plt.xlim(xmin,xmax)\n",
    "plt.show()"
   ]
  },
  {
   "cell_type": "code",
   "execution_count": 6,
   "metadata": {
    "collapsed": false
   },
   "outputs": [
    {
     "data": {
      "text/plain": [
       "30570"
      ]
     },
     "execution_count": 6,
     "metadata": {},
     "output_type": "execute_result"
    }
   ],
   "source": [
    "# Select for muons of opposite-sign and where both are global muons\n",
    "ms = df[(df.Q1 != df.Q2) & ((df.Type1 == 'G') & (df.Type2 == 'G'))]\n",
    "len(ms)"
   ]
  },
  {
   "cell_type": "code",
   "execution_count": 7,
   "metadata": {
    "collapsed": false
   },
   "outputs": [
    {
     "data": {
      "image/png": "[encoded data removed]",
      "text/plain": [
       "<matplotlib.figure.Figure at 0x118afd5c0>"
      ]
     },
     "metadata": {},
     "output_type": "display_data"
    }
   ],
   "source": [
    "weights = [nbins/m for m in ms['m']]\n",
    "M_hist = np.histogram(ms['m'], bins=nbins, weights=weights, range=(xmin,xmax))\n",
    "\n",
    "hist, bins = M_hist\n",
    "width = 1.0*(bins[1] - bins[0])\n",
    "center = (bins[:-1] + bins[1:]) / 2\n",
    "plt.bar(center, hist, align='center', width=width, color='w', linewidth=1, edgecolor='r')\n",
    "plt.xlabel('invariant mass [GeV]')\n",
    "plt.ylabel('events/ 0.04 GeV')\n",
    "plt.xlim(xmin,xmax)\n",
    "plt.show()"
   ]
  }
 ],
 "metadata": {
  "kernelspec": {
   "display_name": "Python 3",
   "language": "python",
   "name": "python3"
  },
  "language_info": {
   "codemirror_mode": {
    "name": "ipython",
    "version": 3
   },
   "file_extension": ".py",
   "mimetype": "text/x-python",
   "name": "python",
   "nbconvert_exporter": "python",
   "pygments_lexer": "ipython3",
   "version": "3.5.1"
  }
 },
 "nbformat": 4,
 "nbformat_minor": 0
}
