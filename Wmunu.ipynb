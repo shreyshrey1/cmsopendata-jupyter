{
 "cells": [
  {
   "cell_type": "markdown",
   "metadata": {},
   "source": [
    "Let's look at a sample of $W$ boson candidates, particularly those that decay to a muon $\\mu$ and a neutrino $\\nu$. A selection has already been performed on the SingleMu sample collected by the CMS Experiment in 2011. \n",
    "\n",
    "(Most selections contained in this notebook come from those specified and described in \"Measurement of the Inclusive W and Z Production Cross Sections in pp Collisions at $\\sqrt{s}$ = 7 TeV\" by the CMS Collaboration [arXiv:1107.4789].)\n",
    "\n",
    "The selection code is here: https://github.com/tpmccauley/Wmunu-filter\n",
    "\n",
    "An event is kept if there is one (and only one) global muon in the event that satisfies: $p_{t}$ > 25.0 GeV and |$\\eta$| < 2.1. Furthermore, the event is rejected if there is another global muon in the event with $p_{t}$ > 10 GeV in the acceptance region $|\\eta|$ < 2.4.\n",
    "\n",
    "We output the following information to a csv (comma-separated-variable) file:\n",
    "\n",
    "Run,Event,pt,eta,phi,Q,chiSq,dxy,iso,MET,phiMET\n",
    "\n",
    "Where\n",
    "* Run, Event are the run and event numbers, respectively\n",
    "* pt is the transverse momentum $p_{t}$ of the muon\n",
    "* eta is the pseudorapidity of the muon: $\\eta$\n",
    "* phi is the $\\phi$ angle of the muon direction\n",
    "* Q is the charge of the muon\n",
    "* chiSq is the $\\chi^{2}$ per degree-of-freedom of the global muon fit\n",
    "* dxy is the impact parameter in the transverse plane: $d_{xy}$\n",
    "* iso is the combined isolation: $I_{comb}$ = $I_{track}$ + $I_{ECAL}$ + $I_{HCAL}$\n",
    "* MET is the missing transverse energy\n",
    "* phiMET is the $\\phi$ angle of the MET"
   ]
  },
  {
   "cell_type": "markdown",
   "metadata": {},
   "source": [
    "Let's read in the csv file, make a data frame, calculate the transverse mass $M_{T}$, where \n",
    "\n",
    "$M_{T} = \\sqrt{2p_{t}MET(1 - \\cos{\\Delta\\phi})}$\n",
    "\n",
    "and add a Mt column to the data frame"
   ]
  },
  {
   "cell_type": "code",
   "execution_count": 67,
   "metadata": {
    "collapsed": false
   },
   "outputs": [
    {
     "data": {
      "text/html": [
       "<div>\n",
       "<table border=\"1\" class=\"dataframe\">\n",
       "  <thead>\n",
       "    <tr style=\"text-align: right;\">\n",
       "      <th></th>\n",
       "      <th>Run</th>\n",
       "      <th>Event</th>\n",
       "      <th>pt</th>\n",
       "      <th>eta</th>\n",
       "      <th>phi</th>\n",
       "      <th>Q</th>\n",
       "      <th>chiSq</th>\n",
       "      <th>dxy</th>\n",
       "      <th>iso</th>\n",
       "      <th>MET</th>\n",
       "      <th>phiMET</th>\n",
       "      <th>Mt</th>\n",
       "    </tr>\n",
       "  </thead>\n",
       "  <tbody>\n",
       "    <tr>\n",
       "      <th>0</th>\n",
       "      <td>173389</td>\n",
       "      <td>489963747</td>\n",
       "      <td>29.3153</td>\n",
       "      <td>-0.139250</td>\n",
       "      <td>1.356110</td>\n",
       "      <td>1</td>\n",
       "      <td>0.845578</td>\n",
       "      <td>-0.060012</td>\n",
       "      <td>0.00000</td>\n",
       "      <td>30.66700</td>\n",
       "      <td>-2.130810</td>\n",
       "      <td>59.075395</td>\n",
       "    </tr>\n",
       "    <tr>\n",
       "      <th>1</th>\n",
       "      <td>173389</td>\n",
       "      <td>490024840</td>\n",
       "      <td>44.1461</td>\n",
       "      <td>-1.359000</td>\n",
       "      <td>-0.538965</td>\n",
       "      <td>1</td>\n",
       "      <td>1.294310</td>\n",
       "      <td>-0.012581</td>\n",
       "      <td>26.34230</td>\n",
       "      <td>27.95210</td>\n",
       "      <td>-2.668610</td>\n",
       "      <td>61.453123</td>\n",
       "    </tr>\n",
       "    <tr>\n",
       "      <th>2</th>\n",
       "      <td>173389</td>\n",
       "      <td>490102189</td>\n",
       "      <td>42.7895</td>\n",
       "      <td>-1.019350</td>\n",
       "      <td>2.339020</td>\n",
       "      <td>-1</td>\n",
       "      <td>0.807800</td>\n",
       "      <td>-0.084001</td>\n",
       "      <td>2.97476</td>\n",
       "      <td>5.15651</td>\n",
       "      <td>0.306059</td>\n",
       "      <td>25.259728</td>\n",
       "    </tr>\n",
       "    <tr>\n",
       "      <th>3</th>\n",
       "      <td>173389</td>\n",
       "      <td>490092121</td>\n",
       "      <td>31.2215</td>\n",
       "      <td>-0.127033</td>\n",
       "      <td>-0.488923</td>\n",
       "      <td>-1</td>\n",
       "      <td>109.949000</td>\n",
       "      <td>0.072264</td>\n",
       "      <td>56.48970</td>\n",
       "      <td>4.21427</td>\n",
       "      <td>-0.116569</td>\n",
       "      <td>4.246511</td>\n",
       "    </tr>\n",
       "    <tr>\n",
       "      <th>4</th>\n",
       "      <td>173389</td>\n",
       "      <td>490193981</td>\n",
       "      <td>36.9668</td>\n",
       "      <td>1.855660</td>\n",
       "      <td>1.377200</td>\n",
       "      <td>1</td>\n",
       "      <td>1.059700</td>\n",
       "      <td>-0.067624</td>\n",
       "      <td>41.49100</td>\n",
       "      <td>20.99630</td>\n",
       "      <td>-1.625060</td>\n",
       "      <td>55.584353</td>\n",
       "    </tr>\n",
       "  </tbody>\n",
       "</table>\n",
       "</div>"
      ],
      "text/plain": [
       "      Run      Event       pt       eta       phi  Q       chiSq       dxy  \\\n",
       "0  173389  489963747  29.3153 -0.139250  1.356110  1    0.845578 -0.060012   \n",
       "1  173389  490024840  44.1461 -1.359000 -0.538965  1    1.294310 -0.012581   \n",
       "2  173389  490102189  42.7895 -1.019350  2.339020 -1    0.807800 -0.084001   \n",
       "3  173389  490092121  31.2215 -0.127033 -0.488923 -1  109.949000  0.072264   \n",
       "4  173389  490193981  36.9668  1.855660  1.377200  1    1.059700 -0.067624   \n",
       "\n",
       "        iso       MET    phiMET         Mt  \n",
       "0   0.00000  30.66700 -2.130810  59.075395  \n",
       "1  26.34230  27.95210 -2.668610  61.453123  \n",
       "2   2.97476   5.15651  0.306059  25.259728  \n",
       "3  56.48970   4.21427 -0.116569   4.246511  \n",
       "4  41.49100  20.99630 -1.625060  55.584353  "
      ]
     },
     "execution_count": 67,
     "metadata": {},
     "output_type": "execute_result"
    }
   ],
   "source": [
    "import math\n",
    "import numpy as np\n",
    "import pandas as pd\n",
    "\n",
    "df = pd.read_csv('./data/Wmunu_Run2011A.csv')\n",
    "df['Mt'] = np.sqrt(2*df['pt']*df['MET']*(1-np.cos(df['phi']-df['phiMET'])))\n",
    "\n",
    "df.head()"
   ]
  },
  {
   "cell_type": "code",
   "execution_count": 68,
   "metadata": {
    "collapsed": true
   },
   "outputs": [],
   "source": [
    "MT_hist = np.histogram(df.Mt, bins=30, range=(0,150))"
   ]
  },
  {
   "cell_type": "markdown",
   "metadata": {},
   "source": [
    "The histogram returns the bin edges and the numbers within the bins which we can output:"
   ]
  },
  {
   "cell_type": "code",
   "execution_count": 69,
   "metadata": {
    "collapsed": false
   },
   "outputs": [
    {
     "name": "stdout",
     "output_type": "stream",
     "text": [
      "[ 9762  9488  8641  8124  7920  7617  7640  7390  7461  7517  8054  8555\n",
      "  9532  9849 10039  9292  7416  4982  2851  1465   771   397   240   143\n",
      "    92    61    53    35    31    21]\n",
      "[   0.    5.   10.   15.   20.   25.   30.   35.   40.   45.   50.   55.\n",
      "   60.   65.   70.   75.   80.   85.   90.   95.  100.  105.  110.  115.\n",
      "  120.  125.  130.  135.  140.  145.  150.]\n"
     ]
    }
   ],
   "source": [
    "hist, bins = MT_hist\n",
    "print(hist)\n",
    "print(bins)"
   ]
  },
  {
   "cell_type": "markdown",
   "metadata": {},
   "source": [
    "Of course it's better view this graphically so let's plot it:"
   ]
  },
  {
   "cell_type": "code",
   "execution_count": 70,
   "metadata": {
    "collapsed": false
   },
   "outputs": [
    {
     "data": {
      "image/png": "[encoded data removed]",
      "text/plain": [
       "<matplotlib.figure.Figure at 0x5686b3090>"
      ]
     },
     "metadata": {},
     "output_type": "display_data"
    }
   ],
   "source": [
    "%matplotlib inline\n",
    "import matplotlib.pyplot as plt\n",
    "\n",
    "hist, bins = MT_hist\n",
    "width = 1.0*(bins[1] - bins[0])\n",
    "center = (bins[:-1] + bins[1:]) / 2\n",
    "plt.bar(center, hist, align='center', width=width, color='w', linewidth=1, edgecolor='b')\n",
    "plt.xlabel('Transverse mass [GeV]')\n",
    "plt.show()\n"
   ]
  },
  {
   "cell_type": "markdown",
   "metadata": {},
   "source": [
    "What do the variables $\\chi^{2}/ndof$, $d_{xy}$, and iso look like?"
   ]
  },
  {
   "cell_type": "code",
   "execution_count": 71,
   "metadata": {
    "collapsed": false
   },
   "outputs": [
    {
     "data": {
      "image/png": "[encoded data removed]",
      "text/plain": [
       "<matplotlib.figure.Figure at 0x10b20b410>"
      ]
     },
     "metadata": {},
     "output_type": "display_data"
    }
   ],
   "source": [
    "chi2_hist = np.histogram(df['chiSq'], bins=25, range=(0,25))\n",
    "\n",
    "hist, bins = chi2_hist\n",
    "width = 1.0*(bins[1] - bins[0])\n",
    "center = (bins[:-1] + bins[1:]) / 2\n",
    "plt.bar(center, hist, align='center', width=width, color='w', linewidth=1, edgecolor='b')\n",
    "plt.xlabel('chiSq/ndof')\n",
    "plt.yscale('log')\n",
    "plt.show()"
   ]
  },
  {
   "cell_type": "code",
   "execution_count": 72,
   "metadata": {
    "collapsed": true
   },
   "outputs": [],
   "source": [
    "w = [dxy for dxy in df['dxy']]"
   ]
  },
  {
   "cell_type": "code",
   "execution_count": 73,
   "metadata": {
    "collapsed": false
   },
   "outputs": [
    {
     "data": {
      "image/png": "[encoded data removed]",
      "text/plain": [
       "<matplotlib.figure.Figure at 0x10a395c50>"
      ]
     },
     "metadata": {},
     "output_type": "display_data"
    }
   ],
   "source": [
    "nbins = 20\n",
    "weights = [nbins/np.log(10)/dxy for dxy in df['dxy']]\n",
    "dxy_hist = np.histogram(df['dxy'], bins=nbins, weights=weights, range=(0,1))\n",
    "\n",
    "hist, bins = dxy_hist\n",
    "width = 1.0*(bins[1] - bins[0])\n",
    "center = (bins[:-1] + bins[1:]) / 2\n",
    "plt.bar(center, hist, align='center', width=width, color='w', linewidth=1, edgecolor='b')\n",
    "plt.xlabel('dxy [cm]')\n",
    "plt.ylabel('# of events / 0.05 cm')\n",
    "plt.yscale('log')\n",
    "plt.show()"
   ]
  },
  {
   "cell_type": "code",
   "execution_count": 74,
   "metadata": {
    "collapsed": false
   },
   "outputs": [
    {
     "data": {
      "image/png": "[encoded data removed]",
      "text/plain": [
       "<matplotlib.figure.Figure at 0x10b7f2450>"
      ]
     },
     "metadata": {},
     "output_type": "display_data"
    }
   ],
   "source": [
    "iso_hist = np.histogram(df['iso']/df['pt'], bins=50, range=(0,0.5))\n",
    "\n",
    "hist, bins = iso_hist\n",
    "width = 1.0*(bins[1] - bins[0])\n",
    "center = (bins[:-1] + bins[1:]) / 2\n",
    "plt.bar(center, hist, align='center', width=width, color='w', linewidth=1, edgecolor='b')\n",
    "plt.xlabel('relative Icomb')\n",
    "plt.show()"
   ]
  },
  {
   "cell_type": "code",
   "execution_count": 75,
   "metadata": {
    "collapsed": false
   },
   "outputs": [
    {
     "data": {
      "image/png": "[encoded data removed]",
      "text/plain": [
       "<matplotlib.figure.Figure at 0x10a399a90>"
      ]
     },
     "metadata": {},
     "output_type": "display_data"
    }
   ],
   "source": [
    "MET_hist = np.histogram(df['MET'], bins=30, range=(0,150))\n",
    "\n",
    "hist, bins = MET_hist\n",
    "width = 1.0*(bins[1] - bins[0])\n",
    "center = (bins[:-1] + bins[1:]) / 2\n",
    "plt.bar(center, hist, align='center', width=width, color='w', linewidth=1, edgecolor='b')\n",
    "plt.xlabel('MET [GeV]')\n",
    "plt.show()"
   ]
  },
  {
   "cell_type": "code",
   "execution_count": 76,
   "metadata": {
    "collapsed": false
   },
   "outputs": [
    {
     "data": {
      "image/png": "[encoded data removed]",
      "text/plain": [
       "<matplotlib.figure.Figure at 0x10b206d50>"
      ]
     },
     "metadata": {},
     "output_type": "display_data"
    }
   ],
   "source": [
    "pt_hist = np.histogram(df.pt, bins=75, range=(25,150))\n",
    "\n",
    "hist, bins = pt_hist\n",
    "width = 1.0*(bins[1] - bins[0])\n",
    "center = (bins[:-1] + bins[1:]) / 2\n",
    "plt.bar(center, hist, align='center', width=width, color='w', linewidth=1, edgecolor='b')\n",
    "plt.yscale('log')\n",
    "plt.xlabel('pt [GeV]')\n",
    "plt.show()"
   ]
  },
  {
   "cell_type": "code",
   "execution_count": 77,
   "metadata": {
    "collapsed": false
   },
   "outputs": [
    {
     "data": {
      "image/png": "[encoded data removed]",
      "text/plain": [
       "<matplotlib.figure.Figure at 0x10a273ed0>"
      ]
     },
     "metadata": {},
     "output_type": "display_data"
    }
   ],
   "source": [
    "hist, bins = MT_hist\n",
    "width = 1.0*(bins[1] - bins[0])\n",
    "center = (bins[:-1] + bins[1:]) / 2\n",
    "plt.bar(center, hist, align='center', width=width, color='w', linewidth=1, edgecolor='b')\n",
    "plt.xlabel('Transverse mass [GeV]')\n",
    "plt.show()"
   ]
  },
  {
   "cell_type": "markdown",
   "metadata": {},
   "source": [
    "What does the transverse mass look like if we apply the following selections?\n",
    "* $\\chi^{2}/ndof$ < 10\n",
    "* $d_{xy}$ < 0.2 cm\n",
    "* $I^{rel}_{comb}$ < 0.1 "
   ]
  },
  {
   "cell_type": "code",
   "execution_count": 78,
   "metadata": {
    "collapsed": false
   },
   "outputs": [
    {
     "data": {
      "image/png": "[encoded data removed]",
      "text/plain": [
       "<matplotlib.figure.Figure at 0x10d79c650>"
      ]
     },
     "metadata": {},
     "output_type": "display_data"
    }
   ],
   "source": [
    "nbins = 30\n",
    "select = df[(df.chiSq < 10) & (df.dxy < 0.2) & (df.iso/df.pt < 0.1)]\n",
    "\n",
    "MT_hist = np.histogram(select.Mt, bins=nbins, range=(0,150))\n",
    "\n",
    "hist, bins = MT_hist\n",
    "width = 1.0*(bins[1] - bins[0])\n",
    "center = (bins[:-1] + bins[1:]) / 2\n",
    "plt.bar(center, hist, align='center', width=width, color='w', linewidth=1, edgecolor='b')\n",
    "plt.xlabel('Transverse mass [GeV]')\n",
    "plt.show()"
   ]
  },
  {
   "cell_type": "markdown",
   "metadata": {},
   "source": [
    "How many events do we have?"
   ]
  },
  {
   "cell_type": "code",
   "execution_count": 66,
   "metadata": {
    "collapsed": false
   },
   "outputs": [
    {
     "data": {
      "text/plain": [
       "76880"
      ]
     },
     "execution_count": 66,
     "metadata": {},
     "output_type": "execute_result"
    }
   ],
   "source": [
    "len(select)"
   ]
  }
 ],
 "metadata": {
  "kernelspec": {
   "display_name": "Python 2",
   "language": "python",
   "name": "python2"
  },
  "language_info": {
   "codemirror_mode": {
    "name": "ipython",
    "version": 2
   },
   "file_extension": ".py",
   "mimetype": "text/x-python",
   "name": "python",
   "nbconvert_exporter": "python",
   "pygments_lexer": "ipython2",
   "version": "2.7.5"
  }
 },
 "nbformat": 4,
 "nbformat_minor": 0
}
