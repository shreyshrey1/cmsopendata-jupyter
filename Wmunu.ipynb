{
 "cells": [
  {
   "cell_type": "markdown",
   "metadata": {},
   "source": [
    "Let's look at a sample of $W$ boson candidates, particularly those that decay to a muon $\\mu$ and a neutrino $\\nu$. A selection has already been performed on the SingleMu sample collected by the CMS Experiment in 2011. \n",
    "\n",
    "The selection code is here: https://github.com/tpmccauley/Wmunu-filter\n",
    "\n",
    "An event is kept if there is one (and only one) global muon in the event that satisfies:\n",
    "* $p_{t}$ > 30.0 GeV\n",
    "* |$\\eta$| < 2.1\n",
    "* relative isolation < 0.15\n",
    "\n",
    "We output the following information to a csv (comma-separated-variable) file:\n",
    "\n",
    "Run,Event,pt,eta,phi,Q,MET,phiMET\n",
    "\n",
    "Let's read in the csv file and calculate the transverse mass $M_{T}$, where \n",
    "\n",
    "$M_{T} = \\sqrt{2p_{t}MET(1 - \\cos{\\Delta\\phi})}$\n",
    "\n",
    "and make a histogram of the results."
   ]
  },
  {
   "cell_type": "code",
   "execution_count": 1,
   "metadata": {
    "collapsed": false
   },
   "outputs": [],
   "source": [
    "import csv\n",
    "import math\n",
    "import numpy\n",
    "\n",
    "transverse_mass = []\n",
    "\n",
    "with open('./data/Wmunu_Run2011A.csv') as csvfile:\n",
    "    \n",
    "    reader = csv.DictReader(csvfile)\n",
    "   \n",
    "    for row in reader:\n",
    "    \n",
    "        pt = float(row['pt'])\n",
    "        phi = float(row['phi'])\n",
    "        MET = float(row['MET'])\n",
    "        phiMET = float(row['phiMET'])\n",
    "        \n",
    "        MT = math.sqrt(2*pt*MET*(1-math.cos(phi-phiMET)))\n",
    "        \n",
    "        transverse_mass.append(MT)\n",
    "        \n",
    "MT_hist = numpy.histogram(transverse_mass, bins=24, range=(0,120))"
   ]
  },
  {
   "cell_type": "markdown",
   "metadata": {},
   "source": [
    "The histogram returns the bin edges and the numbers within the bins which we can output:"
   ]
  },
  {
   "cell_type": "code",
   "execution_count": 2,
   "metadata": {
    "collapsed": false
   },
   "outputs": [
    {
     "name": "stdout",
     "output_type": "stream",
     "text": [
      "[3576 3543 3624 3777 3967 4242 4495 4805 5242 5863 6802 7528 8601 9147 9503\n",
      " 8889 7060 4762 2689 1369  687  347  209  119]\n",
      "[   0.    5.   10.   15.   20.   25.   30.   35.   40.   45.   50.   55.\n",
      "   60.   65.   70.   75.   80.   85.   90.   95.  100.  105.  110.  115.\n",
      "  120.]\n"
     ]
    }
   ],
   "source": [
    "hist, bins = MT_hist\n",
    "print(hist)\n",
    "print(bins)"
   ]
  },
  {
   "cell_type": "markdown",
   "metadata": {},
   "source": [
    "Of course it's better view this graphically so let's plot it:"
   ]
  },
  {
   "cell_type": "code",
   "execution_count": 2,
   "metadata": {
    "collapsed": false
   },
   "outputs": [
    {
     "data": {
      "image/png": "[encoded data removed]",
      "text/plain": [
       "<matplotlib.figure.Figure at 0x108a44f60>"
      ]
     },
     "metadata": {},
     "output_type": "display_data"
    }
   ],
   "source": [
    "%matplotlib inline\n",
    "import matplotlib.pyplot as plt\n",
    "\n",
    "hist, bins = MT_hist\n",
    "width = 1.0*(bins[1] - bins[0])\n",
    "center = (bins[:-1] + bins[1:]) / 2\n",
    "plt.bar(center, hist, align='center', width=width)\n",
    "plt.xlabel('Transverse mass [GeV]')\n",
    "plt.show()\n"
   ]
  },
  {
   "cell_type": "code",
   "execution_count": 16,
   "metadata": {
    "collapsed": false
   },
   "outputs": [
    {
     "data": {
      "text/plain": [
       "111239"
      ]
     },
     "execution_count": 16,
     "metadata": {},
     "output_type": "execute_result"
    }
   ],
   "source": [
    "len(transverse_mass)"
   ]
  },
  {
   "cell_type": "code",
   "execution_count": null,
   "metadata": {
    "collapsed": true
   },
   "outputs": [],
   "source": []
  }
 ],
 "metadata": {
  "kernelspec": {
   "display_name": "Python 3",
   "language": "python",
   "name": "python3"
  },
  "language_info": {
   "codemirror_mode": {
    "name": "ipython",
    "version": 3
   },
   "file_extension": ".py",
   "mimetype": "text/x-python",
   "name": "python",
   "nbconvert_exporter": "python",
   "pygments_lexer": "ipython3",
   "version": "3.5.1"
  }
 },
 "nbformat": 4,
 "nbformat_minor": 0
}
