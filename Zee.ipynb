{
 "cells": [
  {
   "cell_type": "markdown",
   "metadata": {},
   "source": [
    "Let's look at a sample of $Z$ boson candidates, particularly those that decay to two electrons. A selection has already been performed on the DoubleElectron sample collected by the CMS Experiment in 2011. \n",
    "\n",
    "(Most selections contained in this notebook come from those specified and described in \"Measurement of the Inclusive W and Z Production Cross Sections in pp Collisions at $\\sqrt{s}$ = 7 TeV\" by the CMS Collaboration [arXiv:1107.4789].)\n",
    "\n",
    "The selection code is here: https://github.com/tpmccauley/Zee-filter\n",
    "\n",
    "The selections used on the two electrons:\n",
    "* 60 < $M_{ee}$ < 120 GeV\n",
    "* $p_{t}$ > 25 GeV\n",
    "\n",
    "The following variables are output to a csv file\n",
    "\n",
    "Run,Event,\n",
    "pt1,eta1,phi1,Q1,type1,sigmaEtaEta1,HoverE1,isoTrack1,isoEcal1,isoHcal1,\n",
    "pt2,eta2,phi2,Q2,type2,sigmaEtaEta2,HoverE2,isoTrack2,isoEcal2,isoHcal2\n",
    "\n",
    "where (there are two sets of variables, one for each electron)\n",
    "\n",
    "* Run, Event are the run and event numbers, respectively\n",
    "* pt is the transverse momentum $p_{t}$ of the electron\n",
    "* eta is the pseudorapidity of the electron: $\\eta$\n",
    "* phi is the $\\phi$ angle of the electron direction\n",
    "* Q is the charge of the electron\n",
    "* type is either EB or EE: whether the electron is in the barrel or in the endcap\n",
    "* sigmaEtaEta is the weighted cluster rms along $\\eta$: $\\sigma_{\\eta\\eta}$\n",
    "* HoverE is the HCAL energy / ECAL energy\n",
    "* isoTrack is the isolation variable for tracks\n",
    "* isoEcal is the isolation variable for the ECAL\n",
    "* isoHcal is the isolation variable for the HCAL\n",
    "\n",
    "Let's read in the csv to a data frame and calculate the invariant mass $M$ of the two electrons where\n",
    "\n",
    "$M = \\sqrt{2p_{t}^{1}p_{t}^{2}(\\cosh(\\eta_{1}-\\eta_{2}) - \\cos(\\phi_{1}-\\phi_{2}))}$\n",
    "\n",
    "adding a M column to the data frame:"
   ]
  },
  {
   "cell_type": "code",
   "execution_count": 1,
   "metadata": {
    "collapsed": false
   },
   "outputs": [],
   "source": [
    "import scipy"
   ]
  },
  {
   "cell_type": "code",
   "execution_count": 2,
   "metadata": {
    "collapsed": false
   },
   "outputs": [
    {
     "data": {
      "text/html": [
       "<div>\n",
       "<table border=\"1\" class=\"dataframe\">\n",
       "  <thead>\n",
       "    <tr style=\"text-align: right;\">\n",
       "      <th></th>\n",
       "      <th>Run</th>\n",
       "      <th>Event</th>\n",
       "      <th>pt1</th>\n",
       "      <th>eta1</th>\n",
       "      <th>phi1</th>\n",
       "      <th>Q1</th>\n",
       "      <th>type1</th>\n",
       "      <th>sigmaEtaEta1</th>\n",
       "      <th>HoverE1</th>\n",
       "      <th>isoTrack1</th>\n",
       "      <th>...</th>\n",
       "      <th>eta2</th>\n",
       "      <th>phi2</th>\n",
       "      <th>Q2</th>\n",
       "      <th>type2</th>\n",
       "      <th>sigmaEtaEta2</th>\n",
       "      <th>HoverE2</th>\n",
       "      <th>isoTrack2</th>\n",
       "      <th>isoEcal2</th>\n",
       "      <th>isoHcal2</th>\n",
       "      <th>M</th>\n",
       "    </tr>\n",
       "  </thead>\n",
       "  <tbody>\n",
       "    <tr>\n",
       "      <th>0</th>\n",
       "      <td>163286</td>\n",
       "      <td>109060857</td>\n",
       "      <td>37.5667</td>\n",
       "      <td>2.289180</td>\n",
       "      <td>2.052600</td>\n",
       "      <td>-1</td>\n",
       "      <td>EE</td>\n",
       "      <td>0.025125</td>\n",
       "      <td>0.008973</td>\n",
       "      <td>0.00000</td>\n",
       "      <td>...</td>\n",
       "      <td>1.47064</td>\n",
       "      <td>-1.16305</td>\n",
       "      <td>1</td>\n",
       "      <td>EB</td>\n",
       "      <td>0.000753</td>\n",
       "      <td>0.000000</td>\n",
       "      <td>0.000000</td>\n",
       "      <td>1.019030</td>\n",
       "      <td>0.000000</td>\n",
       "      <td>89.589562</td>\n",
       "    </tr>\n",
       "    <tr>\n",
       "      <th>1</th>\n",
       "      <td>163286</td>\n",
       "      <td>109275715</td>\n",
       "      <td>36.2901</td>\n",
       "      <td>-0.837253</td>\n",
       "      <td>-1.585920</td>\n",
       "      <td>1</td>\n",
       "      <td>EB</td>\n",
       "      <td>0.007829</td>\n",
       "      <td>0.043751</td>\n",
       "      <td>0.00000</td>\n",
       "      <td>...</td>\n",
       "      <td>-0.48957</td>\n",
       "      <td>1.04960</td>\n",
       "      <td>-1</td>\n",
       "      <td>EB</td>\n",
       "      <td>0.011246</td>\n",
       "      <td>0.000000</td>\n",
       "      <td>0.718473</td>\n",
       "      <td>1.846060</td>\n",
       "      <td>0.000000</td>\n",
       "      <td>92.252290</td>\n",
       "    </tr>\n",
       "    <tr>\n",
       "      <th>2</th>\n",
       "      <td>163286</td>\n",
       "      <td>109075352</td>\n",
       "      <td>25.9705</td>\n",
       "      <td>-0.697420</td>\n",
       "      <td>1.635990</td>\n",
       "      <td>-1</td>\n",
       "      <td>EB</td>\n",
       "      <td>0.009715</td>\n",
       "      <td>0.040728</td>\n",
       "      <td>6.28701</td>\n",
       "      <td>...</td>\n",
       "      <td>-2.04009</td>\n",
       "      <td>3.11875</td>\n",
       "      <td>1</td>\n",
       "      <td>EE</td>\n",
       "      <td>0.025972</td>\n",
       "      <td>0.028008</td>\n",
       "      <td>15.217000</td>\n",
       "      <td>4.533720</td>\n",
       "      <td>3.836990</td>\n",
       "      <td>67.859158</td>\n",
       "    </tr>\n",
       "    <tr>\n",
       "      <th>3</th>\n",
       "      <td>163286</td>\n",
       "      <td>109169766</td>\n",
       "      <td>41.0075</td>\n",
       "      <td>1.461920</td>\n",
       "      <td>-0.532464</td>\n",
       "      <td>1</td>\n",
       "      <td>EB</td>\n",
       "      <td>0.008753</td>\n",
       "      <td>0.000000</td>\n",
       "      <td>0.00000</td>\n",
       "      <td>...</td>\n",
       "      <td>1.15606</td>\n",
       "      <td>2.47858</td>\n",
       "      <td>-1</td>\n",
       "      <td>EB</td>\n",
       "      <td>0.008590</td>\n",
       "      <td>0.000000</td>\n",
       "      <td>0.000000</td>\n",
       "      <td>2.438830</td>\n",
       "      <td>0.567555</td>\n",
       "      <td>87.604923</td>\n",
       "    </tr>\n",
       "    <tr>\n",
       "      <th>4</th>\n",
       "      <td>163286</td>\n",
       "      <td>108947653</td>\n",
       "      <td>39.8985</td>\n",
       "      <td>-0.592666</td>\n",
       "      <td>-2.394720</td>\n",
       "      <td>1</td>\n",
       "      <td>EB</td>\n",
       "      <td>0.015261</td>\n",
       "      <td>0.000000</td>\n",
       "      <td>2.54347</td>\n",
       "      <td>...</td>\n",
       "      <td>-2.24444</td>\n",
       "      <td>0.61061</td>\n",
       "      <td>-1</td>\n",
       "      <td>EE</td>\n",
       "      <td>0.029025</td>\n",
       "      <td>0.000000</td>\n",
       "      <td>12.422900</td>\n",
       "      <td>0.453359</td>\n",
       "      <td>0.909608</td>\n",
       "      <td>101.426755</td>\n",
       "    </tr>\n",
       "  </tbody>\n",
       "</table>\n",
       "<p>5 rows × 23 columns</p>\n",
       "</div>"
      ],
      "text/plain": [
       "      Run      Event      pt1      eta1      phi1  Q1 type1  sigmaEtaEta1  \\\n",
       "0  163286  109060857  37.5667  2.289180  2.052600  -1    EE      0.025125   \n",
       "1  163286  109275715  36.2901 -0.837253 -1.585920   1    EB      0.007829   \n",
       "2  163286  109075352  25.9705 -0.697420  1.635990  -1    EB      0.009715   \n",
       "3  163286  109169766  41.0075  1.461920 -0.532464   1    EB      0.008753   \n",
       "4  163286  108947653  39.8985 -0.592666 -2.394720   1    EB      0.015261   \n",
       "\n",
       "    HoverE1  isoTrack1     ...         eta2     phi2  Q2  type2  sigmaEtaEta2  \\\n",
       "0  0.008973    0.00000     ...      1.47064 -1.16305   1     EB      0.000753   \n",
       "1  0.043751    0.00000     ...     -0.48957  1.04960  -1     EB      0.011246   \n",
       "2  0.040728    6.28701     ...     -2.04009  3.11875   1     EE      0.025972   \n",
       "3  0.000000    0.00000     ...      1.15606  2.47858  -1     EB      0.008590   \n",
       "4  0.000000    2.54347     ...     -2.24444  0.61061  -1     EE      0.029025   \n",
       "\n",
       "    HoverE2  isoTrack2  isoEcal2  isoHcal2           M  \n",
       "0  0.000000   0.000000  1.019030  0.000000   89.589562  \n",
       "1  0.000000   0.718473  1.846060  0.000000   92.252290  \n",
       "2  0.028008  15.217000  4.533720  3.836990   67.859158  \n",
       "3  0.000000   0.000000  2.438830  0.567555   87.604923  \n",
       "4  0.000000  12.422900  0.453359  0.909608  101.426755  \n",
       "\n",
       "[5 rows x 23 columns]"
      ]
     },
     "execution_count": 2,
     "metadata": {},
     "output_type": "execute_result"
    }
   ],
   "source": [
    "import math\n",
    "import numpy as np\n",
    "import pandas as pd\n",
    "\n",
    "df = pd.read_csv('./data/Zee_Run2011A.csv')\n",
    "df['M'] = np.sqrt(2*df.pt1*df.pt2*(np.cosh(df.eta1-df.eta2) - np.cos(df.phi1-df.phi2)))\n",
    "\n",
    "df.head()"
   ]
  },
  {
   "cell_type": "markdown",
   "metadata": {},
   "source": [
    "What does the invariant mass of the Z look like?"
   ]
  },
  {
   "cell_type": "code",
   "execution_count": 3,
   "metadata": {
    "collapsed": false
   },
   "outputs": [
    {
     "data": {
      "image/png": "[encoded data removed]",
      "text/plain": [
       "<matplotlib.figure.Figure at 0x115cd17b8>"
      ]
     },
     "metadata": {},
     "output_type": "display_data"
    }
   ],
   "source": [
    "%matplotlib inline\n",
    "import matplotlib.pyplot as plt\n",
    "\n",
    "M_hist = np.histogram(df.M, bins=60, range=(60,120))\n",
    "\n",
    "hist, bins = M_hist\n",
    "width = 1.0*(bins[1] - bins[0])\n",
    "center = (bins[:-1] + bins[1:]) / 2\n",
    "plt.bar(center, hist, align='center', width=width, color='w', linewidth=1, edgecolor='r')\n",
    "plt.xlabel('Invariant mass [GeV]')\n",
    "plt.show()\n"
   ]
  },
  {
   "cell_type": "markdown",
   "metadata": {},
   "source": [
    "Let's select events where the electrons are of opposite sign, which is what we expect from $Z \\rightarrow e^{+}e^{-}$"
   ]
  },
  {
   "cell_type": "code",
   "execution_count": 4,
   "metadata": {
    "collapsed": false
   },
   "outputs": [
    {
     "data": {
      "image/png": "[encoded data removed]",
      "text/plain": [
       "<matplotlib.figure.Figure at 0x116626198>"
      ]
     },
     "metadata": {},
     "output_type": "display_data"
    }
   ],
   "source": [
    "oppsign = df[(df.Q1 != df.Q2)]\n",
    "\n",
    "M_hist = np.histogram(oppsign.M, bins=60, range=(60,120))\n",
    "\n",
    "hist, bins = M_hist\n",
    "width = 1.0*(bins[1] - bins[0])\n",
    "center = (bins[:-1] + bins[1:]) / 2\n",
    "plt.bar(center, hist, align='center', width=width, color='w', linewidth=1, edgecolor='r')\n",
    "plt.xlabel('Invariant mass [GeV]')\n",
    "plt.show()"
   ]
  },
  {
   "cell_type": "markdown",
   "metadata": {},
   "source": [
    "What does the invariant mass look like when both electrons are in the barrel of the ECAL?"
   ]
  },
  {
   "cell_type": "code",
   "execution_count": 5,
   "metadata": {
    "collapsed": false
   },
   "outputs": [
    {
     "data": {
      "image/png": "[encoded data removed]",
      "text/plain": [
       "<matplotlib.figure.Figure at 0x11679a668>"
      ]
     },
     "metadata": {},
     "output_type": "display_data"
    }
   ],
   "source": [
    "eb = oppsign[(oppsign.type1 == 'EB') & (oppsign.type2 == 'EB')]\n",
    "\n",
    "M_hist = np.histogram(eb.M, bins=60, range=(60,120))\n",
    "\n",
    "hist, bins = M_hist\n",
    "width = 1.0*(bins[1] - bins[0])\n",
    "center = (bins[:-1] + bins[1:]) / 2\n",
    "plt.bar(center, hist, align='center', width=width, color='w', linewidth=1, edgecolor='r')\n",
    "plt.xlabel('Invariant mass [GeV]')\n",
    "plt.show()"
   ]
  },
  {
   "cell_type": "markdown",
   "metadata": {},
   "source": [
    "What about if we apply the following selections?\n",
    "\n",
    "* $\\sigma_{\\eta\\eta}$ < 0.01\n",
    "* H/E < 0.05\n",
    "* isoTrack / $E_{T}$ < 0.1\n",
    "* isoEcal / $E_{T}$ < 0.1\n",
    "* isoHcal / $E_{T}$ < 0.1"
   ]
  },
  {
   "cell_type": "code",
   "execution_count": 6,
   "metadata": {
    "collapsed": false
   },
   "outputs": [],
   "source": [
    "select = eb[(eb.sigmaEtaEta1 < 0.01) & (eb.sigmaEtaEta2 < 0.01) &\n",
    "            (eb.HoverE1 < 0.05) & (eb.HoverE2 < 0.05) &\n",
    "            (eb.isoTrack1/eb.pt1 < 0.1) & (eb.isoTrack2/eb.pt2 < 0.1) &\n",
    "            (eb.isoEcal1/eb.pt1 < 0.1) & (eb.isoEcal2/eb.pt2 < 0.1) &\n",
    "            (eb.isoHcal1/eb.pt1 < 0.1) & (eb.isoHcal2/eb.pt2 < 0.1)]"
   ]
  },
  {
   "cell_type": "code",
   "execution_count": 7,
   "metadata": {
    "collapsed": false
   },
   "outputs": [
    {
     "data": {
      "image/png": "[encoded data removed]",
      "text/plain": [
       "<matplotlib.figure.Figure at 0x1195f5c18>"
      ]
     },
     "metadata": {},
     "output_type": "display_data"
    }
   ],
   "source": [
    "M_hist = np.histogram(select.M, bins=60, range=(60,120))\n",
    "\n",
    "hist, bins = M_hist\n",
    "width = 1.0*(bins[1] - bins[0])\n",
    "center = (bins[:-1] + bins[1:]) / 2\n",
    "plt.bar(center, hist, align='center', width=width, color='w', linewidth=1, edgecolor='r')\n",
    "plt.xlabel('Invariant mass [GeV]')\n",
    "plt.show()"
   ]
  },
  {
   "cell_type": "code",
   "execution_count": 8,
   "metadata": {
    "collapsed": false
   },
   "outputs": [],
   "source": []
  },
  {
   "cell_type": "code",
   "execution_count": null,
   "metadata": {
    "collapsed": true
   },
   "outputs": [],
   "source": []
  }
 ],
 "metadata": {
  "kernelspec": {
   "display_name": "Python 3",
   "language": "python",
   "name": "python3"
  },
  "language_info": {
   "codemirror_mode": {
    "name": "ipython",
    "version": 3
   },
   "file_extension": ".py",
   "mimetype": "text/x-python",
   "name": "python",
   "nbconvert_exporter": "python",
   "pygments_lexer": "ipython3",
   "version": "3.5.1"
  }
 },
 "nbformat": 4,
 "nbformat_minor": 0
}
