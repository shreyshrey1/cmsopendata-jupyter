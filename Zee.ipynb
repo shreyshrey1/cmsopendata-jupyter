{
 "cells": [
  {
   "cell_type": "markdown",
   "metadata": {},
   "source": [
    "We start with a csv (comma-separated-variable) file that is output from the DoubleElectron dataset from the CMS experiment. The data was collected in 2011.\n",
    "\n",
    "The selections used on the two electrons:\n",
    "* opposite charge\n",
    "* 60 < $M_{ee}$ < 120 GeV \n",
    "* [More needed...]\n",
    "\n",
    "Let's calculate the invariant mass $M$ of the two electrons where:\n",
    "\n",
    "$M = \\sqrt{2p_{t}^{1}p_{t}^{2}(\\cosh(\\eta_{1}-\\eta_{2}) - \\cos(\\phi_{1}-\\phi_{2}))}$"
   ]
  },
  {
   "cell_type": "code",
   "execution_count": 8,
   "metadata": {
    "collapsed": false
   },
   "outputs": [
    {
     "name": "stdout",
     "output_type": "stream",
     "text": [
      "28696\n"
     ]
    }
   ],
   "source": [
    "import csv\n",
    "import math\n",
    "import numpy\n",
    "\n",
    "invariant_mass = []\n",
    "\n",
    "with open('./data/Zee_Run2011A.csv') as csvfile:\n",
    "    \n",
    "    reader = csv.DictReader(csvfile)\n",
    "   \n",
    "    for row in reader:\n",
    "    \n",
    "        pt1 = float(row['pt1'])\n",
    "        eta1 = float(row['eta1'])\n",
    "        phi1 = float(row['phi1'])\n",
    "       \n",
    "        pt2 = float(row['pt2'])\n",
    "        eta2 = float(row['eta2'])\n",
    "        phi2 = float(row['phi2'])\n",
    "    \n",
    "        M = math.sqrt(2*pt1*pt2*(math.cosh(eta1-eta2) - math.cos(phi1-phi2)))\n",
    "        invariant_mass.append(M)\n",
    "        \n",
    "M_hist = numpy.histogram(invariant_mass, bins=120, range=(60,120))\n",
    "\n",
    "print(len(invariant_mass))"
   ]
  },
  {
   "cell_type": "code",
   "execution_count": 9,
   "metadata": {
    "collapsed": false
   },
   "outputs": [
    {
     "data": {
      "image/png": "[encoded data removed]",
      "text/plain": [
       "<matplotlib.figure.Figure at 0x108cce940>"
      ]
     },
     "metadata": {},
     "output_type": "display_data"
    }
   ],
   "source": [
    "%matplotlib inline\n",
    "import matplotlib.pyplot as plt\n",
    "\n",
    "hist, bins = M_hist\n",
    "width = 1.0*(bins[1] - bins[0])\n",
    "center = (bins[:-1] + bins[1:]) / 2\n",
    "plt.bar(center, hist, align='center', width=width)\n",
    "plt.show()\n"
   ]
  },
  {
   "cell_type": "code",
   "execution_count": null,
   "metadata": {
    "collapsed": true
   },
   "outputs": [],
   "source": []
  }
 ],
 "metadata": {
  "kernelspec": {
   "display_name": "Python 3",
   "language": "python",
   "name": "python3"
  },
  "language_info": {
   "codemirror_mode": {
    "name": "ipython",
    "version": 3
   },
   "file_extension": ".py",
   "mimetype": "text/x-python",
   "name": "python",
   "nbconvert_exporter": "python",
   "pygments_lexer": "ipython3",
   "version": "3.5.1"
  }
 },
 "nbformat": 4,
 "nbformat_minor": 0
}
