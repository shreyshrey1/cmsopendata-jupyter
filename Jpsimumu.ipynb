{
 "cells": [
  {
   "cell_type": "markdown",
   "metadata": {},
   "source": [
    "We start with a csv (comma-separated-value) file that is output from the DoubleMu dataset from the CMS experiment. The data was collected in 2011.\n",
    "\n",
    "The selections used on the two muons:\n",
    "* |$\\eta$| < 2.4\n",
    "* 2 < $M_{\\mu\\mu}$ < 5 GeV \n",
    "* at least one of the muons is a global muon\n",
    "\n",
    "Let's calculate the invariant mass $M$ of the two muons where:\n",
    "\n",
    "$M = \\sqrt{2p_{t}^{1}p_{t}^{2}(\\cosh(\\eta_{1}-\\eta_{2}) - \\cos(\\phi_{1}-\\phi_{2}))}$\n",
    "\n",
    "First let's get the data from the csv file into a data frame:"
   ]
  },
  {
   "cell_type": "code",
   "execution_count": 1,
   "metadata": {
    "collapsed": false
   },
   "outputs": [],
   "source": [
    "import pandas as pd\n",
    "import numpy as np\n",
    "\n",
    "df = pd.read_csv('./data/Jpsimumu_Run2011A.csv')"
   ]
  },
  {
   "cell_type": "markdown",
   "metadata": {},
   "source": [
    "What's in the file and how many events do we have?"
   ]
  },
  {
   "cell_type": "code",
   "execution_count": 2,
   "metadata": {
    "collapsed": false,
    "scrolled": true
   },
   "outputs": [
    {
     "data": {
      "text/html": [
       "<div>\n",
       "<table border=\"1\" class=\"dataframe\">\n",
       "  <thead>\n",
       "    <tr style=\"text-align: right;\">\n",
       "      <th></th>\n",
       "      <th>Run</th>\n",
       "      <th>Event</th>\n",
       "      <th>Type1</th>\n",
       "      <th>E1</th>\n",
       "      <th>px1</th>\n",
       "      <th>py1</th>\n",
       "      <th>pz1</th>\n",
       "      <th>pt1</th>\n",
       "      <th>eta1</th>\n",
       "      <th>phi1</th>\n",
       "      <th>...</th>\n",
       "      <th>Type2</th>\n",
       "      <th>E2</th>\n",
       "      <th>px2</th>\n",
       "      <th>py2</th>\n",
       "      <th>pz2</th>\n",
       "      <th>pt2</th>\n",
       "      <th>eta2</th>\n",
       "      <th>phi2</th>\n",
       "      <th>Q2</th>\n",
       "      <th>M</th>\n",
       "    </tr>\n",
       "  </thead>\n",
       "  <tbody>\n",
       "    <tr>\n",
       "      <th>0</th>\n",
       "      <td>165617</td>\n",
       "      <td>75206813</td>\n",
       "      <td>G</td>\n",
       "      <td>10.16230</td>\n",
       "      <td>0.476262</td>\n",
       "      <td>-8.51642</td>\n",
       "      <td>5.52306</td>\n",
       "      <td>8.52973</td>\n",
       "      <td>0.609133</td>\n",
       "      <td>-1.514930</td>\n",
       "      <td>...</td>\n",
       "      <td>G</td>\n",
       "      <td>19.77540</td>\n",
       "      <td>2.750800</td>\n",
       "      <td>-13.987100</td>\n",
       "      <td>13.705900</td>\n",
       "      <td>14.255000</td>\n",
       "      <td>0.853872</td>\n",
       "      <td>-1.376610</td>\n",
       "      <td>1</td>\n",
       "      <td>3.11319</td>\n",
       "    </tr>\n",
       "    <tr>\n",
       "      <th>1</th>\n",
       "      <td>165617</td>\n",
       "      <td>75678475</td>\n",
       "      <td>G</td>\n",
       "      <td>15.87990</td>\n",
       "      <td>15.061800</td>\n",
       "      <td>-1.66581</td>\n",
       "      <td>-4.74643</td>\n",
       "      <td>15.15360</td>\n",
       "      <td>-0.308313</td>\n",
       "      <td>-0.110151</td>\n",
       "      <td>...</td>\n",
       "      <td>G</td>\n",
       "      <td>11.93380</td>\n",
       "      <td>11.908400</td>\n",
       "      <td>-0.767017</td>\n",
       "      <td>-0.085117</td>\n",
       "      <td>11.933000</td>\n",
       "      <td>-0.007133</td>\n",
       "      <td>-0.064321</td>\n",
       "      <td>-1</td>\n",
       "      <td>4.11735</td>\n",
       "    </tr>\n",
       "    <tr>\n",
       "      <th>2</th>\n",
       "      <td>165617</td>\n",
       "      <td>74428554</td>\n",
       "      <td>G</td>\n",
       "      <td>21.82790</td>\n",
       "      <td>-6.221380</td>\n",
       "      <td>11.08450</td>\n",
       "      <td>17.74470</td>\n",
       "      <td>12.71110</td>\n",
       "      <td>1.135660</td>\n",
       "      <td>2.082250</td>\n",
       "      <td>...</td>\n",
       "      <td>G</td>\n",
       "      <td>36.65130</td>\n",
       "      <td>-10.687400</td>\n",
       "      <td>15.069200</td>\n",
       "      <td>31.654400</td>\n",
       "      <td>18.474300</td>\n",
       "      <td>1.307610</td>\n",
       "      <td>2.187680</td>\n",
       "      <td>1</td>\n",
       "      <td>3.10098</td>\n",
       "    </tr>\n",
       "    <tr>\n",
       "      <th>3</th>\n",
       "      <td>165617</td>\n",
       "      <td>75193169</td>\n",
       "      <td>G</td>\n",
       "      <td>19.49230</td>\n",
       "      <td>2.761250</td>\n",
       "      <td>-5.57686</td>\n",
       "      <td>-18.47190</td>\n",
       "      <td>6.22301</td>\n",
       "      <td>-1.808380</td>\n",
       "      <td>-1.111050</td>\n",
       "      <td>...</td>\n",
       "      <td>G</td>\n",
       "      <td>14.93340</td>\n",
       "      <td>1.552490</td>\n",
       "      <td>-6.125350</td>\n",
       "      <td>-13.530200</td>\n",
       "      <td>6.319020</td>\n",
       "      <td>-1.505050</td>\n",
       "      <td>-1.322570</td>\n",
       "      <td>-1</td>\n",
       "      <td>2.33329</td>\n",
       "    </tr>\n",
       "    <tr>\n",
       "      <th>4</th>\n",
       "      <td>165617</td>\n",
       "      <td>74832715</td>\n",
       "      <td>G</td>\n",
       "      <td>8.09718</td>\n",
       "      <td>4.612670</td>\n",
       "      <td>-1.83886</td>\n",
       "      <td>6.39492</td>\n",
       "      <td>4.96570</td>\n",
       "      <td>1.071000</td>\n",
       "      <td>-0.379345</td>\n",
       "      <td>...</td>\n",
       "      <td>T</td>\n",
       "      <td>3.51313</td>\n",
       "      <td>-0.530458</td>\n",
       "      <td>0.688020</td>\n",
       "      <td>3.402380</td>\n",
       "      <td>0.868767</td>\n",
       "      <td>2.074220</td>\n",
       "      <td>2.227600</td>\n",
       "      <td>1</td>\n",
       "      <td>4.56326</td>\n",
       "    </tr>\n",
       "  </tbody>\n",
       "</table>\n",
       "<p>5 rows × 21 columns</p>\n",
       "</div>"
      ],
      "text/plain": [
       "      Run     Event Type1        E1        px1       py1       pz1       pt1  \\\n",
       "0  165617  75206813     G  10.16230   0.476262  -8.51642   5.52306   8.52973   \n",
       "1  165617  75678475     G  15.87990  15.061800  -1.66581  -4.74643  15.15360   \n",
       "2  165617  74428554     G  21.82790  -6.221380  11.08450  17.74470  12.71110   \n",
       "3  165617  75193169     G  19.49230   2.761250  -5.57686 -18.47190   6.22301   \n",
       "4  165617  74832715     G   8.09718   4.612670  -1.83886   6.39492   4.96570   \n",
       "\n",
       "       eta1      phi1   ...     Type2        E2        px2        py2  \\\n",
       "0  0.609133 -1.514930   ...         G  19.77540   2.750800 -13.987100   \n",
       "1 -0.308313 -0.110151   ...         G  11.93380  11.908400  -0.767017   \n",
       "2  1.135660  2.082250   ...         G  36.65130 -10.687400  15.069200   \n",
       "3 -1.808380 -1.111050   ...         G  14.93340   1.552490  -6.125350   \n",
       "4  1.071000 -0.379345   ...         T   3.51313  -0.530458   0.688020   \n",
       "\n",
       "         pz2        pt2      eta2      phi2  Q2        M  \n",
       "0  13.705900  14.255000  0.853872 -1.376610   1  3.11319  \n",
       "1  -0.085117  11.933000 -0.007133 -0.064321  -1  4.11735  \n",
       "2  31.654400  18.474300  1.307610  2.187680   1  3.10098  \n",
       "3 -13.530200   6.319020 -1.505050 -1.322570  -1  2.33329  \n",
       "4   3.402380   0.868767  2.074220  2.227600   1  4.56326  \n",
       "\n",
       "[5 rows x 21 columns]"
      ]
     },
     "execution_count": 2,
     "metadata": {},
     "output_type": "execute_result"
    }
   ],
   "source": [
    "df.head()"
   ]
  },
  {
   "cell_type": "code",
   "execution_count": 3,
   "metadata": {
    "collapsed": false
   },
   "outputs": [
    {
     "data": {
      "text/plain": [
       "31892"
      ]
     },
     "execution_count": 3,
     "metadata": {},
     "output_type": "execute_result"
    }
   ],
   "source": [
    "len(df)"
   ]
  },
  {
   "cell_type": "code",
   "execution_count": 4,
   "metadata": {
    "collapsed": false
   },
   "outputs": [],
   "source": [
    "# Calculate the invariant mass and add it as a column (there is actually one there already but\n",
    "# let's pretend there isn't for now)\n",
    "df['m'] = np.sqrt(2*df['pt1']*df['pt2']*(np.cosh(df['eta1']-df['eta2']) - np.cos(df['phi1']-df['phi2'])))\n",
    "\n",
    "nbins = 100\n",
    "\n",
    "M_hist = np.histogram(df['m'], bins=nbins, range=(2,5))"
   ]
  },
  {
   "cell_type": "code",
   "execution_count": 5,
   "metadata": {
    "collapsed": false
   },
   "outputs": [
    {
     "data": {
      "image/png": "[encoded data removed]",
      "text/plain": [
       "<matplotlib.figure.Figure at 0x10984fba8>"
      ]
     },
     "metadata": {},
     "output_type": "display_data"
    }
   ],
   "source": [
    "%matplotlib inline\n",
    "import matplotlib.pyplot as plt\n",
    "\n",
    "hist, bins = M_hist\n",
    "width = 1.0*(bins[1] - bins[0])\n",
    "center = (bins[:-1] + bins[1:]) / 2\n",
    "plt.bar(center, hist, align='center', width=width, color='b', linewidth=0, edgecolor='b')\n",
    "plt.xlabel('invariant mass [GeV]')\n",
    "plt.xlim(2,5)\n",
    "plt.show()"
   ]
  },
  {
   "cell_type": "code",
   "execution_count": 19,
   "metadata": {
    "collapsed": false
   },
   "outputs": [
    {
     "data": {
      "text/plain": [
       "23845"
      ]
     },
     "execution_count": 19,
     "metadata": {},
     "output_type": "execute_result"
    }
   ],
   "source": [
    "# Select for muons of opposite-sign and where both are global muons\n",
    "ms = df[(df.Q1 != df.Q2) & ((df.Type1 == 'G') & (df.Type2 == 'G'))]\n",
    "len(ms)"
   ]
  },
  {
   "cell_type": "code",
   "execution_count": 20,
   "metadata": {
    "collapsed": false
   },
   "outputs": [
    {
     "data": {
      "image/png": "[encoded data removed]",
      "text/plain": [
       "<matplotlib.figure.Figure at 0x10ca3a550>"
      ]
     },
     "metadata": {},
     "output_type": "display_data"
    }
   ],
   "source": [
    "M_hist = np.histogram(ms['m'], bins=nbins, range=(2,5))\n",
    "\n",
    "hist, bins = M_hist\n",
    "width = 1.0*(bins[1] - bins[0])\n",
    "center = (bins[:-1] + bins[1:]) / 2\n",
    "plt.bar(center, hist, align='center', width=width, color='b', linewidth=0)\n",
    "plt.xlabel('invariant mass [GeV]')\n",
    "plt.xlim(2,5)\n",
    "plt.show()"
   ]
  },
  {
   "cell_type": "markdown",
   "metadata": {},
   "source": [
    "Finally, let's plot the log10 of the invariant mass:"
   ]
  },
  {
   "cell_type": "code",
   "execution_count": 28,
   "metadata": {
    "collapsed": false
   },
   "outputs": [
    {
     "data": {
      "image/png": "[encoded data removed]",
      "text/plain": [
       "<matplotlib.figure.Figure at 0x10c810f60>"
      ]
     },
     "metadata": {},
     "output_type": "display_data"
    }
   ],
   "source": [
    "weights = [nbins/np.log(10)/m for m in ms['m']]\n",
    "M_hist = np.histogram(np.log10(ms['m']), bins=nbins, weights=weights, range=(np.log10(2),np.log10(5)))\n",
    "\n",
    "hist, bins = M_hist\n",
    "width = 1.0*(bins[1] - bins[0])\n",
    "center = (bins[:-1] + bins[1:]) / 2\n",
    "plt.bar(center, hist, align='center', width=width, color='w', linewidth=1, edgecolor='b')\n",
    "plt.yscale('log')\n",
    "plt.xlabel('log10(invariant mass) [log10(GeV)]')\n",
    "plt.ylabel('events/ 0.03 GeV')\n",
    "plt.show()"
   ]
  },
  {
   "cell_type": "code",
   "execution_count": null,
   "metadata": {
    "collapsed": true
   },
   "outputs": [],
   "source": []
  }
 ],
 "metadata": {
  "kernelspec": {
   "display_name": "Python 2",
   "language": "python",
   "name": "python2"
  },
  "language_info": {
   "codemirror_mode": {
    "name": "ipython",
    "version": 2
   },
   "file_extension": ".py",
   "mimetype": "text/x-python",
   "name": "python",
   "nbconvert_exporter": "python",
   "pygments_lexer": "ipython2",
   "version": "2.7.5"
  }
 },
 "nbformat": 4,
 "nbformat_minor": 0
}
