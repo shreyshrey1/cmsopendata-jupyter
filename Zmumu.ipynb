{
 "cells": [
  {
   "cell_type": "markdown",
   "metadata": {},
   "source": [
    "Let's look at a sample of $Z$ boson candidates, particularly those that decay to two muons.\n",
    "A selection has already been performed on the DoubleMuon sample collected by the CMS Experiment in 2011. \n",
    "\n",
    "(Most selections contained in this notebook come from those specified and described in \"Measurement of the Inclusive W and Z Production Cross Sections in pp Collisions at $\\sqrt{s}$ = 7 TeV\" by the CMS Collaboration [arXiv:1107.4789].)\n",
    "\n",
    "The selection code is here: https://github.com/tpmccauley/Zmumu-filter\n",
    "\n",
    "The selections applied on the two muons:\n",
    "* Both muons are \"global\" muons\n",
    "* 60 < $M_{\\mu\\mu} < 120$ GeV\n",
    "* |$\\eta$| < 2.1 for both muons\n",
    "* $p_{t}$ > 20 GeV\n",
    "\n",
    "The following variables are output to a csv file: \n",
    "\n",
    "Run,Event,pt1,eta1,phi1,Q1,dxy1,iso1,pt2,et2,ph2,Q2,dxy2,iso2\n",
    "\n",
    "Where\n",
    "\n",
    "* Run, Event are the run and event numbers, respectively\n",
    "* pt is the transverse momentum $p_{t}$ of the muon\n",
    "* eta is the pseudorapidity of the muon: $\\eta$\n",
    "* phi is the $\\phi$ angle of the muon direction\n",
    "* Q is the charge of the muon\n",
    "* dxy is the impact parameter in the transverse plane: $d_{xy}$\n",
    "* iso is the track isolation: $I_{track}$\n",
    "\n",
    "Let's read in the csv to a data frame and calculate the invariant mass $M$ of the two electrons where\n",
    "\n",
    "$M = \\sqrt{2p_{t}^{1}p_{t}^{2}(\\cosh(\\eta_{1}-\\eta_{2}) - \\cos(\\phi_{1}-\\phi_{2}))}$\n",
    "\n",
    "adding a M column to the data frame:"
   ]
  },
  {
   "cell_type": "code",
   "execution_count": 10,
   "metadata": {
    "collapsed": false
   },
   "outputs": [
    {
     "data": {
      "text/html": [
       "<div>\n",
       "<table border=\"1\" class=\"dataframe\">\n",
       "  <thead>\n",
       "    <tr style=\"text-align: right;\">\n",
       "      <th></th>\n",
       "      <th>Run</th>\n",
       "      <th>Event</th>\n",
       "      <th>pt1</th>\n",
       "      <th>eta1</th>\n",
       "      <th>phi1</th>\n",
       "      <th>Q1</th>\n",
       "      <th>dxy1</th>\n",
       "      <th>iso1</th>\n",
       "      <th>pt2</th>\n",
       "      <th>eta2</th>\n",
       "      <th>phi2</th>\n",
       "      <th>Q2</th>\n",
       "      <th>dxy2</th>\n",
       "      <th>iso2</th>\n",
       "      <th>M</th>\n",
       "    </tr>\n",
       "  </thead>\n",
       "  <tbody>\n",
       "    <tr>\n",
       "      <th>0</th>\n",
       "      <td>165617</td>\n",
       "      <td>74969122</td>\n",
       "      <td>54.7055</td>\n",
       "      <td>-0.432396</td>\n",
       "      <td>2.574210</td>\n",
       "      <td>1</td>\n",
       "      <td>-0.074544</td>\n",
       "      <td>0.499921</td>\n",
       "      <td>34.2464</td>\n",
       "      <td>-0.988480</td>\n",
       "      <td>-0.498704</td>\n",
       "      <td>-1</td>\n",
       "      <td>0.071222</td>\n",
       "      <td>3.42214</td>\n",
       "      <td>89.885744</td>\n",
       "    </tr>\n",
       "    <tr>\n",
       "      <th>1</th>\n",
       "      <td>165617</td>\n",
       "      <td>75138253</td>\n",
       "      <td>24.5872</td>\n",
       "      <td>-2.052200</td>\n",
       "      <td>2.866570</td>\n",
       "      <td>-1</td>\n",
       "      <td>-0.055437</td>\n",
       "      <td>0.000000</td>\n",
       "      <td>28.5389</td>\n",
       "      <td>0.385163</td>\n",
       "      <td>-1.991170</td>\n",
       "      <td>1</td>\n",
       "      <td>0.051477</td>\n",
       "      <td>0.00000</td>\n",
       "      <td>88.810987</td>\n",
       "    </tr>\n",
       "    <tr>\n",
       "      <th>2</th>\n",
       "      <td>165617</td>\n",
       "      <td>75887636</td>\n",
       "      <td>31.7386</td>\n",
       "      <td>-2.259450</td>\n",
       "      <td>-1.332290</td>\n",
       "      <td>-1</td>\n",
       "      <td>0.087917</td>\n",
       "      <td>0.000000</td>\n",
       "      <td>30.2344</td>\n",
       "      <td>-0.468419</td>\n",
       "      <td>1.883310</td>\n",
       "      <td>1</td>\n",
       "      <td>-0.087639</td>\n",
       "      <td>0.00000</td>\n",
       "      <td>88.472502</td>\n",
       "    </tr>\n",
       "    <tr>\n",
       "      <th>3</th>\n",
       "      <td>165617</td>\n",
       "      <td>75779415</td>\n",
       "      <td>39.7394</td>\n",
       "      <td>-0.712338</td>\n",
       "      <td>-0.312266</td>\n",
       "      <td>1</td>\n",
       "      <td>0.058481</td>\n",
       "      <td>0.000000</td>\n",
       "      <td>48.2790</td>\n",
       "      <td>-0.195625</td>\n",
       "      <td>2.970320</td>\n",
       "      <td>-1</td>\n",
       "      <td>-0.049201</td>\n",
       "      <td>0.00000</td>\n",
       "      <td>90.332620</td>\n",
       "    </tr>\n",
       "    <tr>\n",
       "      <th>4</th>\n",
       "      <td>165617</td>\n",
       "      <td>75098104</td>\n",
       "      <td>41.2998</td>\n",
       "      <td>-0.157055</td>\n",
       "      <td>-3.040770</td>\n",
       "      <td>1</td>\n",
       "      <td>-0.030463</td>\n",
       "      <td>1.228040</td>\n",
       "      <td>43.4508</td>\n",
       "      <td>0.590958</td>\n",
       "      <td>-0.042756</td>\n",
       "      <td>-1</td>\n",
       "      <td>0.044175</td>\n",
       "      <td>0.00000</td>\n",
       "      <td>90.514507</td>\n",
       "    </tr>\n",
       "  </tbody>\n",
       "</table>\n",
       "</div>"
      ],
      "text/plain": [
       "      Run     Event      pt1      eta1      phi1  Q1      dxy1      iso1  \\\n",
       "0  165617  74969122  54.7055 -0.432396  2.574210   1 -0.074544  0.499921   \n",
       "1  165617  75138253  24.5872 -2.052200  2.866570  -1 -0.055437  0.000000   \n",
       "2  165617  75887636  31.7386 -2.259450 -1.332290  -1  0.087917  0.000000   \n",
       "3  165617  75779415  39.7394 -0.712338 -0.312266   1  0.058481  0.000000   \n",
       "4  165617  75098104  41.2998 -0.157055 -3.040770   1 -0.030463  1.228040   \n",
       "\n",
       "       pt2      eta2      phi2  Q2      dxy2     iso2          M  \n",
       "0  34.2464 -0.988480 -0.498704  -1  0.071222  3.42214  89.885744  \n",
       "1  28.5389  0.385163 -1.991170   1  0.051477  0.00000  88.810987  \n",
       "2  30.2344 -0.468419  1.883310   1 -0.087639  0.00000  88.472502  \n",
       "3  48.2790 -0.195625  2.970320  -1 -0.049201  0.00000  90.332620  \n",
       "4  43.4508  0.590958 -0.042756  -1  0.044175  0.00000  90.514507  "
      ]
     },
     "execution_count": 10,
     "metadata": {},
     "output_type": "execute_result"
    }
   ],
   "source": [
    "import math\n",
    "import numpy as np\n",
    "import pandas as pd\n",
    "\n",
    "df = pd.read_csv('./data/Zmumu_Run2011A.csv')\n",
    "df['M'] = np.sqrt(2*df.pt1*df.pt2*(np.cosh(df.eta1-df.eta2) - np.cos(df.phi1-df.phi2)))\n",
    "\n",
    "df.head()"
   ]
  },
  {
   "cell_type": "code",
   "execution_count": 11,
   "metadata": {
    "collapsed": false
   },
   "outputs": [
    {
     "data": {
      "image/png": "[encoded data removed]",
      "text/plain": [
       "<matplotlib.figure.Figure at 0x10a4639d0>"
      ]
     },
     "metadata": {},
     "output_type": "display_data"
    }
   ],
   "source": [
    "%matplotlib inline\n",
    "import matplotlib.pyplot as plt\n",
    "\n",
    "M_hist = np.histogram(df.M, bins=60, range=(60,120))\n",
    "\n",
    "hist, bins = M_hist\n",
    "width = 1.0*(bins[1] - bins[0])\n",
    "center = (bins[:-1] + bins[1:]) / 2\n",
    "plt.bar(center, hist, align='center', width=width, color='w', linewidth=1, edgecolor='r')\n",
    "plt.xlabel('Invariant mass [GeV]')\n",
    "plt.show()"
   ]
  },
  {
   "cell_type": "markdown",
   "metadata": {
    "collapsed": true
   },
   "source": [
    "What does the invariant mass look like if we select for opposite-sign muons, as one would expect from $Z \\rightarrow \\mu^{+}\\mu^{-}$?"
   ]
  },
  {
   "cell_type": "code",
   "execution_count": 12,
   "metadata": {
    "collapsed": false
   },
   "outputs": [
    {
     "data": {
      "image/png": "[encoded data removed]",
      "text/plain": [
       "<matplotlib.figure.Figure at 0x1052c1910>"
      ]
     },
     "metadata": {},
     "output_type": "display_data"
    }
   ],
   "source": [
    "oppsign = df[(df.Q1 != df.Q2)]\n",
    "\n",
    "M_hist = np.histogram(oppsign.M, bins=60, range=(60,120))\n",
    "\n",
    "hist, bins = M_hist\n",
    "width = 1.0*(bins[1] - bins[0])\n",
    "center = (bins[:-1] + bins[1:]) / 2\n",
    "plt.bar(center, hist, align='center', width=width, color='w', linewidth=1, edgecolor='r')\n",
    "plt.xlabel('Invariant mass [GeV]')\n",
    "plt.show()"
   ]
  },
  {
   "cell_type": "markdown",
   "metadata": {},
   "source": [
    "What about if we apply the following selections?\n",
    "\n",
    "* $I_{track}$ < 3 GeV\n",
    "* $d_{xy}$ < 0.2 cm"
   ]
  },
  {
   "cell_type": "code",
   "execution_count": 13,
   "metadata": {
    "collapsed": true
   },
   "outputs": [],
   "source": [
    "select = oppsign[(oppsign.iso1 < 3) & (oppsign.iso2 < 0.1) &\n",
    "                 (oppsign.dxy1 < 0.2) & (oppsign.dxy2 < 0.2)]"
   ]
  },
  {
   "cell_type": "code",
   "execution_count": 14,
   "metadata": {
    "collapsed": false
   },
   "outputs": [
    {
     "data": {
      "image/png": "[encoded data removed]",
      "text/plain": [
       "<matplotlib.figure.Figure at 0x10a92ccd0>"
      ]
     },
     "metadata": {},
     "output_type": "display_data"
    }
   ],
   "source": [
    "M_hist = np.histogram(select.M, bins=60, range=(60,120))\n",
    "\n",
    "hist, bins = M_hist\n",
    "width = 1.0*(bins[1] - bins[0])\n",
    "center = (bins[:-1] + bins[1:]) / 2\n",
    "plt.bar(center, hist, align='center', width=width, color='w', linewidth=1, edgecolor='r')\n",
    "plt.xlabel('Invariant mass [GeV]')\n",
    "plt.show()"
   ]
  },
  {
   "cell_type": "code",
   "execution_count": null,
   "metadata": {
    "collapsed": true
   },
   "outputs": [],
   "source": []
  }
 ],
 "metadata": {
  "kernelspec": {
   "display_name": "Python 2",
   "language": "python",
   "name": "python2"
  },
  "language_info": {
   "codemirror_mode": {
    "name": "ipython",
    "version": 2
   },
   "file_extension": ".py",
   "mimetype": "text/x-python",
   "name": "python",
   "nbconvert_exporter": "python",
   "pygments_lexer": "ipython2",
   "version": "2.7.5"
  }
 },
 "nbformat": 4,
 "nbformat_minor": 0
}
